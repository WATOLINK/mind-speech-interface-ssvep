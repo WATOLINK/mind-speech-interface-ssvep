{
 "cells": [
  {
   "cell_type": "code",
   "execution_count": null,
   "metadata": {
    "pycharm": {
     "name": "#%%\n",
     "is_executing": true
    }
   },
   "outputs": [],
   "source": [
    "import pandas as pd\n",
    "import numpy as np\n",
    "import matplotlib.pyplot as plt"
   ]
  },
  {
   "cell_type": "code",
   "execution_count": 4,
   "metadata": {
    "pycharm": {
     "name": "#%%\n"
    }
   },
   "outputs": [],
   "source": [
    "data_path = 'EEG-AI-Layer/data/4 Stim Dataset June (11.75, 12.75, 10.25, 14.75)/Avery (Dist=500px, Diameter=0.8, Acer Monitor)/173_2022_515272.csv'"
   ]
  },
  {
   "cell_type": "code",
   "execution_count": 5,
   "metadata": {
    "pycharm": {
     "name": "#%%\n"
    }
   },
   "outputs": [
    {
     "data": {
      "text/html": [
       "<div>\n",
       "<style scoped>\n",
       "    .dataframe tbody tr th:only-of-type {\n",
       "        vertical-align: middle;\n",
       "    }\n",
       "\n",
       "    .dataframe tbody tr th {\n",
       "        vertical-align: top;\n",
       "    }\n",
       "\n",
       "    .dataframe thead th {\n",
       "        text-align: right;\n",
       "    }\n",
       "</style>\n",
       "<table border=\"1\" class=\"dataframe\">\n",
       "  <thead>\n",
       "    <tr style=\"text-align: right;\">\n",
       "      <th></th>\n",
       "      <th>time</th>\n",
       "      <th>CH1</th>\n",
       "      <th>CH2</th>\n",
       "      <th>CH3</th>\n",
       "      <th>CH4</th>\n",
       "      <th>CH5</th>\n",
       "      <th>CH6</th>\n",
       "      <th>CH7</th>\n",
       "      <th>CH8</th>\n",
       "      <th>Color Code</th>\n",
       "      <th>Frequency</th>\n",
       "    </tr>\n",
       "  </thead>\n",
       "  <tbody>\n",
       "    <tr>\n",
       "      <th>0</th>\n",
       "      <td>2022-06-22 18:59:37.936403</td>\n",
       "      <td>0.000000</td>\n",
       "      <td>0.000000</td>\n",
       "      <td>0.000000</td>\n",
       "      <td>0.000000</td>\n",
       "      <td>0.000000</td>\n",
       "      <td>0.000000</td>\n",
       "      <td>0.000000</td>\n",
       "      <td>0.000000</td>\n",
       "      <td>0.0</td>\n",
       "      <td>0.0</td>\n",
       "    </tr>\n",
       "    <tr>\n",
       "      <th>1</th>\n",
       "      <td>2022-06-22 18:59:37.945950</td>\n",
       "      <td>17353.313250</td>\n",
       "      <td>-1318.372943</td>\n",
       "      <td>1361.668272</td>\n",
       "      <td>1220.159378</td>\n",
       "      <td>-9085.246514</td>\n",
       "      <td>-24154.814977</td>\n",
       "      <td>-12353.406829</td>\n",
       "      <td>-6938.383810</td>\n",
       "      <td>NaN</td>\n",
       "      <td>NaN</td>\n",
       "    </tr>\n",
       "    <tr>\n",
       "      <th>2</th>\n",
       "      <td>2022-06-22 18:59:37.953394</td>\n",
       "      <td>17355.168445</td>\n",
       "      <td>-1321.926871</td>\n",
       "      <td>1356.594426</td>\n",
       "      <td>1212.492730</td>\n",
       "      <td>-9142.243462</td>\n",
       "      <td>-24167.287250</td>\n",
       "      <td>-12362.593396</td>\n",
       "      <td>-6945.424610</td>\n",
       "      <td>NaN</td>\n",
       "      <td>NaN</td>\n",
       "    </tr>\n",
       "    <tr>\n",
       "      <th>3</th>\n",
       "      <td>2022-06-22 18:59:37.953397</td>\n",
       "      <td>17361.583395</td>\n",
       "      <td>-1313.142635</td>\n",
       "      <td>1358.963711</td>\n",
       "      <td>1218.013611</td>\n",
       "      <td>-9102.703226</td>\n",
       "      <td>-24156.111378</td>\n",
       "      <td>-12354.569120</td>\n",
       "      <td>-6934.606366</td>\n",
       "      <td>NaN</td>\n",
       "      <td>NaN</td>\n",
       "    </tr>\n",
       "    <tr>\n",
       "      <th>4</th>\n",
       "      <td>2022-06-22 18:59:37.960028</td>\n",
       "      <td>17383.868084</td>\n",
       "      <td>-1291.953181</td>\n",
       "      <td>1372.598275</td>\n",
       "      <td>1234.620957</td>\n",
       "      <td>-9034.306888</td>\n",
       "      <td>-24136.486547</td>\n",
       "      <td>-12335.726599</td>\n",
       "      <td>-6908.410121</td>\n",
       "      <td>NaN</td>\n",
       "      <td>NaN</td>\n",
       "    </tr>\n",
       "    <tr>\n",
       "      <th>...</th>\n",
       "      <td>...</td>\n",
       "      <td>...</td>\n",
       "      <td>...</td>\n",
       "      <td>...</td>\n",
       "      <td>...</td>\n",
       "      <td>...</td>\n",
       "      <td>...</td>\n",
       "      <td>...</td>\n",
       "      <td>...</td>\n",
       "      <td>...</td>\n",
       "      <td>...</td>\n",
       "    </tr>\n",
       "    <tr>\n",
       "      <th>61738</th>\n",
       "      <td>2022-06-22 19:03:44.493599</td>\n",
       "      <td>16584.480296</td>\n",
       "      <td>-2009.175957</td>\n",
       "      <td>1112.491025</td>\n",
       "      <td>709.600831</td>\n",
       "      <td>-9624.571755</td>\n",
       "      <td>-24316.887476</td>\n",
       "      <td>-12027.719561</td>\n",
       "      <td>-7022.851053</td>\n",
       "      <td>NaN</td>\n",
       "      <td>NaN</td>\n",
       "    </tr>\n",
       "    <tr>\n",
       "      <th>61739</th>\n",
       "      <td>2022-06-22 19:03:44.501661</td>\n",
       "      <td>16591.118764</td>\n",
       "      <td>-1992.769777</td>\n",
       "      <td>1120.358839</td>\n",
       "      <td>720.977869</td>\n",
       "      <td>-9550.006336</td>\n",
       "      <td>-24295.027470</td>\n",
       "      <td>-12017.303648</td>\n",
       "      <td>-7005.617858</td>\n",
       "      <td>NaN</td>\n",
       "      <td>NaN</td>\n",
       "    </tr>\n",
       "    <tr>\n",
       "      <th>61740</th>\n",
       "      <td>2022-06-22 19:03:44.501675</td>\n",
       "      <td>16594.918560</td>\n",
       "      <td>-1988.053559</td>\n",
       "      <td>1125.611499</td>\n",
       "      <td>723.525968</td>\n",
       "      <td>-9541.423266</td>\n",
       "      <td>-24290.579473</td>\n",
       "      <td>-12011.715712</td>\n",
       "      <td>-7000.365198</td>\n",
       "      <td>NaN</td>\n",
       "      <td>NaN</td>\n",
       "    </tr>\n",
       "    <tr>\n",
       "      <th>61741</th>\n",
       "      <td>2022-06-22 19:03:44.509766</td>\n",
       "      <td>16589.375328</td>\n",
       "      <td>-2002.202213</td>\n",
       "      <td>1118.838920</td>\n",
       "      <td>712.126578</td>\n",
       "      <td>-9615.452244</td>\n",
       "      <td>-24309.734918</td>\n",
       "      <td>-12020.924630</td>\n",
       "      <td>-7016.480805</td>\n",
       "      <td>NaN</td>\n",
       "      <td>NaN</td>\n",
       "    </tr>\n",
       "    <tr>\n",
       "      <th>61742</th>\n",
       "      <td>2022-06-22 19:03:44.509786</td>\n",
       "      <td>16588.078927</td>\n",
       "      <td>-2004.415036</td>\n",
       "      <td>1117.050781</td>\n",
       "      <td>710.271384</td>\n",
       "      <td>-9630.562023</td>\n",
       "      <td>-24311.008967</td>\n",
       "      <td>-12024.545613</td>\n",
       "      <td>-7019.900622</td>\n",
       "      <td>NaN</td>\n",
       "      <td>NaN</td>\n",
       "    </tr>\n",
       "  </tbody>\n",
       "</table>\n",
       "<p>61743 rows × 11 columns</p>\n",
       "</div>"
      ],
      "text/plain": [
       "                             time           CH1          CH2          CH3  \\\n",
       "0      2022-06-22 18:59:37.936403      0.000000     0.000000     0.000000   \n",
       "1      2022-06-22 18:59:37.945950  17353.313250 -1318.372943  1361.668272   \n",
       "2      2022-06-22 18:59:37.953394  17355.168445 -1321.926871  1356.594426   \n",
       "3      2022-06-22 18:59:37.953397  17361.583395 -1313.142635  1358.963711   \n",
       "4      2022-06-22 18:59:37.960028  17383.868084 -1291.953181  1372.598275   \n",
       "...                           ...           ...          ...          ...   \n",
       "61738  2022-06-22 19:03:44.493599  16584.480296 -2009.175957  1112.491025   \n",
       "61739  2022-06-22 19:03:44.501661  16591.118764 -1992.769777  1120.358839   \n",
       "61740  2022-06-22 19:03:44.501675  16594.918560 -1988.053559  1125.611499   \n",
       "61741  2022-06-22 19:03:44.509766  16589.375328 -2002.202213  1118.838920   \n",
       "61742  2022-06-22 19:03:44.509786  16588.078927 -2004.415036  1117.050781   \n",
       "\n",
       "               CH4          CH5           CH6           CH7          CH8  \\\n",
       "0         0.000000     0.000000      0.000000      0.000000     0.000000   \n",
       "1      1220.159378 -9085.246514 -24154.814977 -12353.406829 -6938.383810   \n",
       "2      1212.492730 -9142.243462 -24167.287250 -12362.593396 -6945.424610   \n",
       "3      1218.013611 -9102.703226 -24156.111378 -12354.569120 -6934.606366   \n",
       "4      1234.620957 -9034.306888 -24136.486547 -12335.726599 -6908.410121   \n",
       "...            ...          ...           ...           ...          ...   \n",
       "61738   709.600831 -9624.571755 -24316.887476 -12027.719561 -7022.851053   \n",
       "61739   720.977869 -9550.006336 -24295.027470 -12017.303648 -7005.617858   \n",
       "61740   723.525968 -9541.423266 -24290.579473 -12011.715712 -7000.365198   \n",
       "61741   712.126578 -9615.452244 -24309.734918 -12020.924630 -7016.480805   \n",
       "61742   710.271384 -9630.562023 -24311.008967 -12024.545613 -7019.900622   \n",
       "\n",
       "       Color Code  Frequency  \n",
       "0             0.0        0.0  \n",
       "1             NaN        NaN  \n",
       "2             NaN        NaN  \n",
       "3             NaN        NaN  \n",
       "4             NaN        NaN  \n",
       "...           ...        ...  \n",
       "61738         NaN        NaN  \n",
       "61739         NaN        NaN  \n",
       "61740         NaN        NaN  \n",
       "61741         NaN        NaN  \n",
       "61742         NaN        NaN  \n",
       "\n",
       "[61743 rows x 11 columns]"
      ]
     },
     "execution_count": 5,
     "metadata": {},
     "output_type": "execute_result"
    }
   ],
   "source": [
    "df = pd.read_csv(data_path)\n",
    "df"
   ]
  },
  {
   "cell_type": "code",
   "execution_count": 6,
   "metadata": {
    "pycharm": {
     "name": "#%%\n"
    }
   },
   "outputs": [
    {
     "name": "stdout",
     "output_type": "stream",
     "text": [
      "<class 'pandas.core.frame.DataFrame'>\n",
      "RangeIndex: 61743 entries, 0 to 61742\n",
      "Data columns (total 11 columns):\n",
      " #   Column      Non-Null Count  Dtype  \n",
      "---  ------      --------------  -----  \n",
      " 0   time        61743 non-null  object \n",
      " 1   CH1         61743 non-null  float64\n",
      " 2   CH2         61743 non-null  float64\n",
      " 3   CH3         61743 non-null  float64\n",
      " 4   CH4         61743 non-null  float64\n",
      " 5   CH5         61743 non-null  float64\n",
      " 6   CH6         61743 non-null  float64\n",
      " 7   CH7         61743 non-null  float64\n",
      " 8   CH8         61743 non-null  float64\n",
      " 9   Color Code  46 non-null     float64\n",
      " 10  Frequency   46 non-null     float64\n",
      "dtypes: float64(10), object(1)\n",
      "memory usage: 5.2+ MB\n"
     ]
    }
   ],
   "source": [
    "df.info()"
   ]
  },
  {
   "cell_type": "code",
   "execution_count": 7,
   "metadata": {
    "pycharm": {
     "name": "#%%\n"
    }
   },
   "outputs": [
    {
     "data": {
      "text/html": [
       "<div>\n",
       "<style scoped>\n",
       "    .dataframe tbody tr th:only-of-type {\n",
       "        vertical-align: middle;\n",
       "    }\n",
       "\n",
       "    .dataframe tbody tr th {\n",
       "        vertical-align: top;\n",
       "    }\n",
       "\n",
       "    .dataframe thead th {\n",
       "        text-align: right;\n",
       "    }\n",
       "</style>\n",
       "<table border=\"1\" class=\"dataframe\">\n",
       "  <thead>\n",
       "    <tr style=\"text-align: right;\">\n",
       "      <th></th>\n",
       "      <th>CH1</th>\n",
       "      <th>CH2</th>\n",
       "      <th>CH3</th>\n",
       "      <th>CH4</th>\n",
       "      <th>CH5</th>\n",
       "      <th>CH6</th>\n",
       "      <th>CH7</th>\n",
       "      <th>CH8</th>\n",
       "      <th>Color Code</th>\n",
       "      <th>Frequency</th>\n",
       "    </tr>\n",
       "  </thead>\n",
       "  <tbody>\n",
       "    <tr>\n",
       "      <th>count</th>\n",
       "      <td>61743.000000</td>\n",
       "      <td>61743.000000</td>\n",
       "      <td>61743.000000</td>\n",
       "      <td>61743.000000</td>\n",
       "      <td>61743.000000</td>\n",
       "      <td>61743.000000</td>\n",
       "      <td>61743.000000</td>\n",
       "      <td>61743.000000</td>\n",
       "      <td>46.000000</td>\n",
       "      <td>46.000000</td>\n",
       "    </tr>\n",
       "    <tr>\n",
       "      <th>mean</th>\n",
       "      <td>17053.771468</td>\n",
       "      <td>-1590.087000</td>\n",
       "      <td>1381.200690</td>\n",
       "      <td>1059.659152</td>\n",
       "      <td>-9260.369621</td>\n",
       "      <td>-24166.435700</td>\n",
       "      <td>-12154.791829</td>\n",
       "      <td>-6966.679599</td>\n",
       "      <td>0.434783</td>\n",
       "      <td>5.380435</td>\n",
       "    </tr>\n",
       "    <tr>\n",
       "      <th>std</th>\n",
       "      <td>228.919195</td>\n",
       "      <td>194.111823</td>\n",
       "      <td>153.070655</td>\n",
       "      <td>175.714755</td>\n",
       "      <td>169.089807</td>\n",
       "      <td>154.735910</td>\n",
       "      <td>202.586743</td>\n",
       "      <td>139.528882</td>\n",
       "      <td>0.501206</td>\n",
       "      <td>6.297429</td>\n",
       "    </tr>\n",
       "    <tr>\n",
       "      <th>min</th>\n",
       "      <td>0.000000</td>\n",
       "      <td>-2049.722022</td>\n",
       "      <td>0.000000</td>\n",
       "      <td>0.000000</td>\n",
       "      <td>-9743.527739</td>\n",
       "      <td>-24412.664701</td>\n",
       "      <td>-12561.926253</td>\n",
       "      <td>-7264.115782</td>\n",
       "      <td>0.000000</td>\n",
       "      <td>0.000000</td>\n",
       "    </tr>\n",
       "    <tr>\n",
       "      <th>25%</th>\n",
       "      <td>16886.541770</td>\n",
       "      <td>-1719.787922</td>\n",
       "      <td>1290.310328</td>\n",
       "      <td>931.084267</td>\n",
       "      <td>-9364.799781</td>\n",
       "      <td>-24276.252005</td>\n",
       "      <td>-12321.320900</td>\n",
       "      <td>-7072.986015</td>\n",
       "      <td>0.000000</td>\n",
       "      <td>0.000000</td>\n",
       "    </tr>\n",
       "    <tr>\n",
       "      <th>50%</th>\n",
       "      <td>17042.869871</td>\n",
       "      <td>-1598.395598</td>\n",
       "      <td>1365.870400</td>\n",
       "      <td>1064.770051</td>\n",
       "      <td>-9262.495847</td>\n",
       "      <td>-24180.988870</td>\n",
       "      <td>-12156.689126</td>\n",
       "      <td>-6982.617913</td>\n",
       "      <td>0.000000</td>\n",
       "      <td>0.000000</td>\n",
       "    </tr>\n",
       "    <tr>\n",
       "      <th>75%</th>\n",
       "      <td>17225.718317</td>\n",
       "      <td>-1447.264278</td>\n",
       "      <td>1496.438115</td>\n",
       "      <td>1176.573476</td>\n",
       "      <td>-9147.607881</td>\n",
       "      <td>-24062.759317</td>\n",
       "      <td>-11998.002916</td>\n",
       "      <td>-6845.434081</td>\n",
       "      <td>1.000000</td>\n",
       "      <td>11.750000</td>\n",
       "    </tr>\n",
       "    <tr>\n",
       "      <th>max</th>\n",
       "      <td>17494.062185</td>\n",
       "      <td>0.000000</td>\n",
       "      <td>1783.535097</td>\n",
       "      <td>1449.376517</td>\n",
       "      <td>0.000000</td>\n",
       "      <td>0.000000</td>\n",
       "      <td>0.000000</td>\n",
       "      <td>0.000000</td>\n",
       "      <td>1.000000</td>\n",
       "      <td>14.750000</td>\n",
       "    </tr>\n",
       "  </tbody>\n",
       "</table>\n",
       "</div>"
      ],
      "text/plain": [
       "                CH1           CH2           CH3           CH4           CH5  \\\n",
       "count  61743.000000  61743.000000  61743.000000  61743.000000  61743.000000   \n",
       "mean   17053.771468  -1590.087000   1381.200690   1059.659152  -9260.369621   \n",
       "std      228.919195    194.111823    153.070655    175.714755    169.089807   \n",
       "min        0.000000  -2049.722022      0.000000      0.000000  -9743.527739   \n",
       "25%    16886.541770  -1719.787922   1290.310328    931.084267  -9364.799781   \n",
       "50%    17042.869871  -1598.395598   1365.870400   1064.770051  -9262.495847   \n",
       "75%    17225.718317  -1447.264278   1496.438115   1176.573476  -9147.607881   \n",
       "max    17494.062185      0.000000   1783.535097   1449.376517      0.000000   \n",
       "\n",
       "                CH6           CH7           CH8  Color Code  Frequency  \n",
       "count  61743.000000  61743.000000  61743.000000   46.000000  46.000000  \n",
       "mean  -24166.435700 -12154.791829  -6966.679599    0.434783   5.380435  \n",
       "std      154.735910    202.586743    139.528882    0.501206   6.297429  \n",
       "min   -24412.664701 -12561.926253  -7264.115782    0.000000   0.000000  \n",
       "25%   -24276.252005 -12321.320900  -7072.986015    0.000000   0.000000  \n",
       "50%   -24180.988870 -12156.689126  -6982.617913    0.000000   0.000000  \n",
       "75%   -24062.759317 -11998.002916  -6845.434081    1.000000  11.750000  \n",
       "max        0.000000      0.000000      0.000000    1.000000  14.750000  "
      ]
     },
     "execution_count": 7,
     "metadata": {},
     "output_type": "execute_result"
    }
   ],
   "source": [
    "df.describe()"
   ]
  },
  {
   "cell_type": "code",
   "execution_count": 8,
   "metadata": {
    "pycharm": {
     "name": "#%%\n"
    }
   },
   "outputs": [
    {
     "data": {
      "text/plain": [
       "(61743, 11)"
      ]
     },
     "execution_count": 8,
     "metadata": {},
     "output_type": "execute_result"
    }
   ],
   "source": [
    "df.shape"
   ]
  },
  {
   "cell_type": "code",
   "execution_count": 9,
   "metadata": {
    "pycharm": {
     "name": "#%%\n"
    }
   },
   "outputs": [
    {
     "name": "stdout",
     "output_type": "stream",
     "text": [
      "0 0.0\n",
      "5254 0.0\n",
      "6510 14.75\n",
      "7763 0.0\n",
      "9021 11.75\n",
      "10275 0.0\n",
      "11532 12.75\n",
      "12785 0.0\n",
      "14043 10.25\n",
      "15297 0.0\n",
      "16553 0.0\n",
      "17812 14.75\n",
      "19065 0.0\n",
      "20322 12.75\n",
      "21575 0.0\n",
      "22830 10.25\n",
      "24083 0.0\n",
      "25340 11.75\n",
      "26593 0.0\n",
      "27850 0.0\n",
      "29109 10.25\n",
      "30360 0.0\n",
      "31619 11.75\n",
      "32872 0.0\n",
      "34129 12.75\n",
      "35382 0.0\n",
      "36639 14.75\n",
      "37890 0.0\n",
      "39149 0.0\n",
      "40404 12.75\n",
      "41657 0.0\n",
      "42914 14.75\n",
      "44167 0.0\n",
      "45422 10.25\n",
      "46675 0.0\n",
      "47932 11.75\n",
      "49185 0.0\n",
      "50444 0.0\n",
      "51699 10.25\n",
      "52954 0.0\n",
      "54211 11.75\n",
      "55466 0.0\n",
      "56721 12.75\n",
      "57974 0.0\n",
      "59233 14.75\n",
      "60484 0.0\n",
      "46\n",
      "[ 0.   10.25 11.75 12.75 14.75]\n"
     ]
    }
   ],
   "source": [
    "# 13 different frequencies\n",
    "# [0.0, 9.25, 10.25, 10.75, 9.75, 11.25, 11.75, 12.25, 12.75, 13.25, 13.75, 14.25, 14.75]\n",
    "\n",
    "# current 4 different frequencies\n",
    "# [10.25, 11.75, 12.75, 14.75]\n",
    "vals = []\n",
    "count = 0\n",
    "for i in range(df.shape[0]):\n",
    "    freq = df.iloc[i]['Frequency']\n",
    "    if freq >= 0:\n",
    "        count += 1\n",
    "        print(i, freq)\n",
    "        vals.append(freq)\n",
    "print(count)\n",
    "print(np.unique(vals))"
   ]
  },
  {
   "cell_type": "code",
   "execution_count": 10,
   "metadata": {
    "pycharm": {
     "name": "#%%\n"
    }
   },
   "outputs": [
    {
     "data": {
      "text/html": [
       "<div>\n",
       "<style scoped>\n",
       "    .dataframe tbody tr th:only-of-type {\n",
       "        vertical-align: middle;\n",
       "    }\n",
       "\n",
       "    .dataframe tbody tr th {\n",
       "        vertical-align: top;\n",
       "    }\n",
       "\n",
       "    .dataframe thead th {\n",
       "        text-align: right;\n",
       "    }\n",
       "</style>\n",
       "<table border=\"1\" class=\"dataframe\">\n",
       "  <thead>\n",
       "    <tr style=\"text-align: right;\">\n",
       "      <th></th>\n",
       "      <th>time</th>\n",
       "      <th>CH1</th>\n",
       "      <th>CH2</th>\n",
       "      <th>CH3</th>\n",
       "      <th>CH4</th>\n",
       "      <th>CH5</th>\n",
       "      <th>CH6</th>\n",
       "      <th>CH7</th>\n",
       "      <th>CH8</th>\n",
       "      <th>Color Code</th>\n",
       "      <th>Frequency</th>\n",
       "    </tr>\n",
       "  </thead>\n",
       "  <tbody>\n",
       "    <tr>\n",
       "      <th>9021</th>\n",
       "      <td>2022-06-22 19:00:13.970601</td>\n",
       "      <td>17262.431057</td>\n",
       "      <td>-1364.797516</td>\n",
       "      <td>1476.198611</td>\n",
       "      <td>1243.025213</td>\n",
       "      <td>-9034.150426</td>\n",
       "      <td>-24085.412810</td>\n",
       "      <td>-12262.524636</td>\n",
       "      <td>-6946.832770</td>\n",
       "      <td>1.0</td>\n",
       "      <td>11.75</td>\n",
       "    </tr>\n",
       "    <tr>\n",
       "      <th>9022</th>\n",
       "      <td>2022-06-22 19:00:13.970620</td>\n",
       "      <td>17256.217272</td>\n",
       "      <td>-1377.269790</td>\n",
       "      <td>1470.320102</td>\n",
       "      <td>1232.631651</td>\n",
       "      <td>-9081.133793</td>\n",
       "      <td>-24099.941444</td>\n",
       "      <td>-12270.258340</td>\n",
       "      <td>-6964.445944</td>\n",
       "      <td>NaN</td>\n",
       "      <td>NaN</td>\n",
       "    </tr>\n",
       "    <tr>\n",
       "      <th>9023</th>\n",
       "      <td>2022-06-22 19:00:13.978709</td>\n",
       "      <td>17247.388333</td>\n",
       "      <td>-1394.011246</td>\n",
       "      <td>1461.558218</td>\n",
       "      <td>1222.528663</td>\n",
       "      <td>-9142.735200</td>\n",
       "      <td>-24116.213514</td>\n",
       "      <td>-12282.372985</td>\n",
       "      <td>-6981.232104</td>\n",
       "      <td>NaN</td>\n",
       "      <td>NaN</td>\n",
       "    </tr>\n",
       "    <tr>\n",
       "      <th>9024</th>\n",
       "      <td>2022-06-22 19:00:13.978725</td>\n",
       "      <td>17255.703182</td>\n",
       "      <td>-1380.711958</td>\n",
       "      <td>1470.320102</td>\n",
       "      <td>1234.352736</td>\n",
       "      <td>-9097.651732</td>\n",
       "      <td>-24098.712098</td>\n",
       "      <td>-12272.091183</td>\n",
       "      <td>-6968.312796</td>\n",
       "      <td>NaN</td>\n",
       "      <td>NaN</td>\n",
       "    </tr>\n",
       "    <tr>\n",
       "      <th>9025</th>\n",
       "      <td>2022-06-22 19:00:13.984873</td>\n",
       "      <td>17263.727458</td>\n",
       "      <td>-1365.624531</td>\n",
       "      <td>1479.640779</td>\n",
       "      <td>1246.892064</td>\n",
       "      <td>-9028.048399</td>\n",
       "      <td>-24081.255386</td>\n",
       "      <td>-12262.859912</td>\n",
       "      <td>-6948.464447</td>\n",
       "      <td>NaN</td>\n",
       "      <td>NaN</td>\n",
       "    </tr>\n",
       "    <tr>\n",
       "      <th>...</th>\n",
       "      <td>...</td>\n",
       "      <td>...</td>\n",
       "      <td>...</td>\n",
       "      <td>...</td>\n",
       "      <td>...</td>\n",
       "      <td>...</td>\n",
       "      <td>...</td>\n",
       "      <td>...</td>\n",
       "      <td>...</td>\n",
       "      <td>...</td>\n",
       "      <td>...</td>\n",
       "    </tr>\n",
       "    <tr>\n",
       "      <th>15293</th>\n",
       "      <td>2022-06-22 19:00:39.014917</td>\n",
       "      <td>17378.302500</td>\n",
       "      <td>-1350.224179</td>\n",
       "      <td>1582.816432</td>\n",
       "      <td>1344.412725</td>\n",
       "      <td>-9006.233097</td>\n",
       "      <td>-23997.883379</td>\n",
       "      <td>-12142.875748</td>\n",
       "      <td>-6877.207086</td>\n",
       "      <td>NaN</td>\n",
       "      <td>NaN</td>\n",
       "    </tr>\n",
       "    <tr>\n",
       "      <th>15294</th>\n",
       "      <td>2022-06-22 19:00:39.014932</td>\n",
       "      <td>17371.261701</td>\n",
       "      <td>-1366.339787</td>\n",
       "      <td>1575.038025</td>\n",
       "      <td>1334.041516</td>\n",
       "      <td>-9080.195019</td>\n",
       "      <td>-24016.770603</td>\n",
       "      <td>-12151.481170</td>\n",
       "      <td>-6893.814432</td>\n",
       "      <td>NaN</td>\n",
       "      <td>NaN</td>\n",
       "    </tr>\n",
       "    <tr>\n",
       "      <th>15295</th>\n",
       "      <td>2022-06-22 19:00:39.021491</td>\n",
       "      <td>17370.971128</td>\n",
       "      <td>-1360.505982</td>\n",
       "      <td>1577.094385</td>\n",
       "      <td>1336.120228</td>\n",
       "      <td>-9076.059947</td>\n",
       "      <td>-24010.512115</td>\n",
       "      <td>-12153.291661</td>\n",
       "      <td>-6893.032121</td>\n",
       "      <td>NaN</td>\n",
       "      <td>NaN</td>\n",
       "    </tr>\n",
       "    <tr>\n",
       "      <th>15296</th>\n",
       "      <td>2022-06-22 19:00:39.021507</td>\n",
       "      <td>17381.141172</td>\n",
       "      <td>-1343.496304</td>\n",
       "      <td>1579.418967</td>\n",
       "      <td>1343.026917</td>\n",
       "      <td>-9007.507146</td>\n",
       "      <td>-23999.224484</td>\n",
       "      <td>-12141.646402</td>\n",
       "      <td>-6872.602626</td>\n",
       "      <td>NaN</td>\n",
       "      <td>NaN</td>\n",
       "    </tr>\n",
       "    <tr>\n",
       "      <th>15297</th>\n",
       "      <td>2022-06-22 19:00:39.028103</td>\n",
       "      <td>17378.078983</td>\n",
       "      <td>-1348.257226</td>\n",
       "      <td>1581.117699</td>\n",
       "      <td>1342.803400</td>\n",
       "      <td>-9003.819108</td>\n",
       "      <td>-23997.481048</td>\n",
       "      <td>-12141.601699</td>\n",
       "      <td>-6881.230400</td>\n",
       "      <td>0.0</td>\n",
       "      <td>0.00</td>\n",
       "    </tr>\n",
       "  </tbody>\n",
       "</table>\n",
       "<p>6277 rows × 11 columns</p>\n",
       "</div>"
      ],
      "text/plain": [
       "                             time           CH1          CH2          CH3  \\\n",
       "9021   2022-06-22 19:00:13.970601  17262.431057 -1364.797516  1476.198611   \n",
       "9022   2022-06-22 19:00:13.970620  17256.217272 -1377.269790  1470.320102   \n",
       "9023   2022-06-22 19:00:13.978709  17247.388333 -1394.011246  1461.558218   \n",
       "9024   2022-06-22 19:00:13.978725  17255.703182 -1380.711958  1470.320102   \n",
       "9025   2022-06-22 19:00:13.984873  17263.727458 -1365.624531  1479.640779   \n",
       "...                           ...           ...          ...          ...   \n",
       "15293  2022-06-22 19:00:39.014917  17378.302500 -1350.224179  1582.816432   \n",
       "15294  2022-06-22 19:00:39.014932  17371.261701 -1366.339787  1575.038025   \n",
       "15295  2022-06-22 19:00:39.021491  17370.971128 -1360.505982  1577.094385   \n",
       "15296  2022-06-22 19:00:39.021507  17381.141172 -1343.496304  1579.418967   \n",
       "15297  2022-06-22 19:00:39.028103  17378.078983 -1348.257226  1581.117699   \n",
       "\n",
       "               CH4          CH5           CH6           CH7          CH8  \\\n",
       "9021   1243.025213 -9034.150426 -24085.412810 -12262.524636 -6946.832770   \n",
       "9022   1232.631651 -9081.133793 -24099.941444 -12270.258340 -6964.445944   \n",
       "9023   1222.528663 -9142.735200 -24116.213514 -12282.372985 -6981.232104   \n",
       "9024   1234.352736 -9097.651732 -24098.712098 -12272.091183 -6968.312796   \n",
       "9025   1246.892064 -9028.048399 -24081.255386 -12262.859912 -6948.464447   \n",
       "...            ...          ...           ...           ...          ...   \n",
       "15293  1344.412725 -9006.233097 -23997.883379 -12142.875748 -6877.207086   \n",
       "15294  1334.041516 -9080.195019 -24016.770603 -12151.481170 -6893.814432   \n",
       "15295  1336.120228 -9076.059947 -24010.512115 -12153.291661 -6893.032121   \n",
       "15296  1343.026917 -9007.507146 -23999.224484 -12141.646402 -6872.602626   \n",
       "15297  1342.803400 -9003.819108 -23997.481048 -12141.601699 -6881.230400   \n",
       "\n",
       "       Color Code  Frequency  \n",
       "9021          1.0      11.75  \n",
       "9022          NaN        NaN  \n",
       "9023          NaN        NaN  \n",
       "9024          NaN        NaN  \n",
       "9025          NaN        NaN  \n",
       "...           ...        ...  \n",
       "15293         NaN        NaN  \n",
       "15294         NaN        NaN  \n",
       "15295         NaN        NaN  \n",
       "15296         NaN        NaN  \n",
       "15297         0.0       0.00  \n",
       "\n",
       "[6277 rows x 11 columns]"
      ]
     },
     "execution_count": 10,
     "metadata": {},
     "output_type": "execute_result"
    }
   ],
   "source": [
    "# 0 0.0\n",
    "# 5254 0.0\n",
    "# 6510 14.75\n",
    "# 7763 0.0\n",
    "# 9021 11.75\n",
    "# 10275 0.0\n",
    "# 11532 12.75\n",
    "# 12785 0.0\n",
    "# 14043 10.25\n",
    "# 15297 0.0\n",
    "\n",
    "lower = 9021\n",
    "upper = 15297 + 1\n",
    "X = range(lower,upper)\n",
    "first_activity = df[lower:upper]\n",
    "first_activity"
   ]
  },
  {
   "cell_type": "code",
   "execution_count": 11,
   "metadata": {
    "pycharm": {
     "name": "#%%\n"
    }
   },
   "outputs": [
    {
     "name": "stdout",
     "output_type": "stream",
     "text": [
      "done\n"
     ]
    },
    {
     "data": {
      "image/png": "[encoded data removed]",
      "text/plain": [
       "<Figure size 432x288 with 9 Axes>"
      ]
     },
     "metadata": {
      "needs_background": "light"
     },
     "output_type": "display_data"
    }
   ],
   "source": [
    "# X = first_activity['time']\n",
    "\n",
    "fig, axs = plt.subplots(3,3)\n",
    "axs[0][0].plot(X, first_activity['CH1'])\n",
    "axs[0][0].set_title('CH1')\n",
    "\n",
    "axs[0][1].plot(X, first_activity['CH2'])\n",
    "axs[0][1].set_title('CH2')\n",
    "\n",
    "axs[0][2].plot(X, first_activity['CH3'])\n",
    "axs[0][2].set_title('CH3')\n",
    "\n",
    "axs[1][0].plot(X, first_activity['CH4'])\n",
    "axs[1][0].set_title('CH4')\n",
    "\n",
    "axs[1][1].plot(X, first_activity['CH5'])\n",
    "axs[1][1].set_title('CH5')\n",
    "\n",
    "axs[1][2].plot(X, first_activity['CH6'])\n",
    "axs[1][2].set_title('CH6')\n",
    "\n",
    "axs[2][0].plot(X, first_activity['CH7'])\n",
    "axs[2][0].set_title('CH7')\n",
    "\n",
    "axs[2][1].plot(X, first_activity['CH8'])\n",
    "axs[2][1].set_title('CH8')\n",
    "\n",
    "for ax in axs.flat:\n",
    "    ax.set(xlabel='Time', ylabel='Frequency')\n",
    "\n",
    "# Hide x labels and tick labels for top plots and y ticks for right plots.\n",
    "for ax in axs.flat:\n",
    "    ax.label_outer()\n",
    "\n",
    "print('done')"
   ]
  },
  {
   "cell_type": "code",
   "execution_count": 12,
   "metadata": {
    "pycharm": {
     "name": "#%%\n"
    }
   },
   "outputs": [],
   "source": [
    "# make every single value labelled\n",
    "del_rows = []\n",
    "del_count = 1\n",
    "\n",
    "curr_freq = 0\n",
    "\n",
    "data = df\n",
    "\n",
    "for i in range(len(data)):\n",
    "    # print(i)\n",
    "    # print(data.iloc[i])\n",
    "    freq = data.iloc[i]['Frequency']\n",
    "    if freq != curr_freq and freq >= 0:\n",
    "        curr_freq = freq\n",
    "        # del_count = 38\n",
    "    if del_count > 0:\n",
    "        del_count -= 1\n",
    "        del_rows.append(i)\n",
    "    data.at[i, 'Frequency'] = curr_freq"
   ]
  },
  {
   "cell_type": "code",
   "execution_count": 13,
   "metadata": {
    "pycharm": {
     "name": "#%%\n"
    }
   },
   "outputs": [
    {
     "data": {
      "text/plain": [
       "(61743, 11)"
      ]
     },
     "execution_count": 13,
     "metadata": {},
     "output_type": "execute_result"
    }
   ],
   "source": [
    "data.shape"
   ]
  },
  {
   "cell_type": "code",
   "execution_count": 14,
   "metadata": {
    "pycharm": {
     "name": "#%%\n"
    }
   },
   "outputs": [
    {
     "data": {
      "text/plain": [
       "(61742, 11)"
      ]
     },
     "execution_count": 14,
     "metadata": {},
     "output_type": "execute_result"
    }
   ],
   "source": [
    "data = data.drop(del_rows)\n",
    "data.shape"
   ]
  },
  {
   "cell_type": "code",
   "execution_count": 15,
   "metadata": {
    "pycharm": {
     "name": "#%%\n"
    }
   },
   "outputs": [
    {
     "data": {
      "text/html": [
       "<div>\n",
       "<style scoped>\n",
       "    .dataframe tbody tr th:only-of-type {\n",
       "        vertical-align: middle;\n",
       "    }\n",
       "\n",
       "    .dataframe tbody tr th {\n",
       "        vertical-align: top;\n",
       "    }\n",
       "\n",
       "    .dataframe thead th {\n",
       "        text-align: right;\n",
       "    }\n",
       "</style>\n",
       "<table border=\"1\" class=\"dataframe\">\n",
       "  <thead>\n",
       "    <tr style=\"text-align: right;\">\n",
       "      <th></th>\n",
       "      <th>CH1</th>\n",
       "      <th>CH2</th>\n",
       "      <th>CH3</th>\n",
       "      <th>CH4</th>\n",
       "      <th>CH5</th>\n",
       "      <th>CH6</th>\n",
       "      <th>CH7</th>\n",
       "      <th>CH8</th>\n",
       "      <th>Color Code</th>\n",
       "      <th>Frequency</th>\n",
       "    </tr>\n",
       "  </thead>\n",
       "  <tbody>\n",
       "    <tr>\n",
       "      <th>count</th>\n",
       "      <td>61742.000000</td>\n",
       "      <td>61742.000000</td>\n",
       "      <td>61742.000000</td>\n",
       "      <td>61742.000000</td>\n",
       "      <td>61742.000000</td>\n",
       "      <td>61742.000000</td>\n",
       "      <td>61742.000000</td>\n",
       "      <td>61742.000000</td>\n",
       "      <td>45.000000</td>\n",
       "      <td>61742.000000</td>\n",
       "    </tr>\n",
       "    <tr>\n",
       "      <th>mean</th>\n",
       "      <td>17054.047678</td>\n",
       "      <td>-1590.112753</td>\n",
       "      <td>1381.223061</td>\n",
       "      <td>1059.676314</td>\n",
       "      <td>-9260.519606</td>\n",
       "      <td>-24166.827110</td>\n",
       "      <td>-12154.988693</td>\n",
       "      <td>-6966.792434</td>\n",
       "      <td>0.444444</td>\n",
       "      <td>5.022578</td>\n",
       "    </tr>\n",
       "    <tr>\n",
       "      <th>std</th>\n",
       "      <td>218.390174</td>\n",
       "      <td>194.007882</td>\n",
       "      <td>152.970931</td>\n",
       "      <td>175.664419</td>\n",
       "      <td>164.932911</td>\n",
       "      <td>120.350732</td>\n",
       "      <td>196.593824</td>\n",
       "      <td>136.683982</td>\n",
       "      <td>0.502519</td>\n",
       "      <td>6.165243</td>\n",
       "    </tr>\n",
       "    <tr>\n",
       "      <th>min</th>\n",
       "      <td>16563.983746</td>\n",
       "      <td>-2049.722022</td>\n",
       "      <td>1023.396972</td>\n",
       "      <td>663.712700</td>\n",
       "      <td>-9743.527739</td>\n",
       "      <td>-24412.664701</td>\n",
       "      <td>-12561.926253</td>\n",
       "      <td>-7264.115782</td>\n",
       "      <td>0.000000</td>\n",
       "      <td>0.000000</td>\n",
       "    </tr>\n",
       "    <tr>\n",
       "      <th>25%</th>\n",
       "      <td>16886.547358</td>\n",
       "      <td>-1719.787922</td>\n",
       "      <td>1290.321504</td>\n",
       "      <td>931.084267</td>\n",
       "      <td>-9364.799781</td>\n",
       "      <td>-24276.252005</td>\n",
       "      <td>-12321.326488</td>\n",
       "      <td>-7072.986015</td>\n",
       "      <td>0.000000</td>\n",
       "      <td>0.000000</td>\n",
       "    </tr>\n",
       "    <tr>\n",
       "      <th>50%</th>\n",
       "      <td>17042.881047</td>\n",
       "      <td>-1598.395598</td>\n",
       "      <td>1365.870400</td>\n",
       "      <td>1064.781226</td>\n",
       "      <td>-9262.495847</td>\n",
       "      <td>-24180.988870</td>\n",
       "      <td>-12156.689126</td>\n",
       "      <td>-6982.617913</td>\n",
       "      <td>0.000000</td>\n",
       "      <td>0.000000</td>\n",
       "    </tr>\n",
       "    <tr>\n",
       "      <th>75%</th>\n",
       "      <td>17225.723904</td>\n",
       "      <td>-1447.275453</td>\n",
       "      <td>1496.443703</td>\n",
       "      <td>1176.573476</td>\n",
       "      <td>-9147.613468</td>\n",
       "      <td>-24062.770493</td>\n",
       "      <td>-11998.019680</td>\n",
       "      <td>-6845.445257</td>\n",
       "      <td>1.000000</td>\n",
       "      <td>11.750000</td>\n",
       "    </tr>\n",
       "    <tr>\n",
       "      <th>max</th>\n",
       "      <td>17494.062185</td>\n",
       "      <td>-1166.515191</td>\n",
       "      <td>1783.535097</td>\n",
       "      <td>1449.376517</td>\n",
       "      <td>-8840.606670</td>\n",
       "      <td>-23878.033325</td>\n",
       "      <td>-11768.282863</td>\n",
       "      <td>-6696.582639</td>\n",
       "      <td>1.000000</td>\n",
       "      <td>14.750000</td>\n",
       "    </tr>\n",
       "  </tbody>\n",
       "</table>\n",
       "</div>"
      ],
      "text/plain": [
       "                CH1           CH2           CH3           CH4           CH5  \\\n",
       "count  61742.000000  61742.000000  61742.000000  61742.000000  61742.000000   \n",
       "mean   17054.047678  -1590.112753   1381.223061   1059.676314  -9260.519606   \n",
       "std      218.390174    194.007882    152.970931    175.664419    164.932911   \n",
       "min    16563.983746  -2049.722022   1023.396972    663.712700  -9743.527739   \n",
       "25%    16886.547358  -1719.787922   1290.321504    931.084267  -9364.799781   \n",
       "50%    17042.881047  -1598.395598   1365.870400   1064.781226  -9262.495847   \n",
       "75%    17225.723904  -1447.275453   1496.443703   1176.573476  -9147.613468   \n",
       "max    17494.062185  -1166.515191   1783.535097   1449.376517  -8840.606670   \n",
       "\n",
       "                CH6           CH7           CH8  Color Code     Frequency  \n",
       "count  61742.000000  61742.000000  61742.000000   45.000000  61742.000000  \n",
       "mean  -24166.827110 -12154.988693  -6966.792434    0.444444      5.022578  \n",
       "std      120.350732    196.593824    136.683982    0.502519      6.165243  \n",
       "min   -24412.664701 -12561.926253  -7264.115782    0.000000      0.000000  \n",
       "25%   -24276.252005 -12321.326488  -7072.986015    0.000000      0.000000  \n",
       "50%   -24180.988870 -12156.689126  -6982.617913    0.000000      0.000000  \n",
       "75%   -24062.770493 -11998.019680  -6845.445257    1.000000     11.750000  \n",
       "max   -23878.033325 -11768.282863  -6696.582639    1.000000     14.750000  "
      ]
     },
     "execution_count": 15,
     "metadata": {},
     "output_type": "execute_result"
    }
   ],
   "source": [
    "data.describe()"
   ]
  },
  {
   "cell_type": "code",
   "execution_count": 16,
   "metadata": {
    "pycharm": {
     "name": "#%%\n"
    }
   },
   "outputs": [
    {
     "name": "stdout",
     "output_type": "stream",
     "text": [
      "done\n"
     ]
    },
    {
     "data": {
      "image/png": "[encoded data removed]",
      "text/plain": [
       "<Figure size 432x288 with 9 Axes>"
      ]
     },
     "metadata": {
      "needs_background": "light"
     },
     "output_type": "display_data"
    }
   ],
   "source": [
    "# X = first_activity['time']\n",
    "X = range(len(data))\n",
    "\n",
    "fig, axs = plt.subplots(3,3)\n",
    "axs[0][0].plot(X, data['CH1'])\n",
    "axs[0][0].set_title('CH1')\n",
    "\n",
    "axs[0][1].plot(X, data['CH2'])\n",
    "axs[0][1].set_title('CH2')\n",
    "\n",
    "axs[0][2].plot(X, data['CH3'])\n",
    "axs[0][2].set_title('CH3')\n",
    "\n",
    "axs[1][0].plot(X, data['CH4'])\n",
    "axs[1][0].set_title('CH4')\n",
    "\n",
    "axs[1][1].plot(X, data['CH5'])\n",
    "axs[1][1].set_title('CH5')\n",
    "\n",
    "axs[1][2].plot(X, data['CH6'])\n",
    "axs[1][2].set_title('CH6')\n",
    "\n",
    "axs[2][0].plot(X, data['CH7'])\n",
    "axs[2][0].set_title('CH7')\n",
    "\n",
    "axs[2][1].plot(X, data['CH8'])\n",
    "axs[2][1].set_title('CH8')\n",
    "\n",
    "for ax in axs.flat:\n",
    "    ax.set(xlabel='Time', ylabel='Frequency')\n",
    "\n",
    "# # Hide x labels and tick labels for top plots and y ticks for right plots.\n",
    "# for ax in axs.flat:\n",
    "#     ax.label_outer()\n",
    "\n",
    "print('done')"
   ]
  },
  {
   "cell_type": "code",
   "execution_count": 17,
   "metadata": {
    "pycharm": {
     "name": "#%%\n"
    }
   },
   "outputs": [
    {
     "data": {
      "text/html": [
       "<div>\n",
       "<style scoped>\n",
       "    .dataframe tbody tr th:only-of-type {\n",
       "        vertical-align: middle;\n",
       "    }\n",
       "\n",
       "    .dataframe tbody tr th {\n",
       "        vertical-align: top;\n",
       "    }\n",
       "\n",
       "    .dataframe thead th {\n",
       "        text-align: right;\n",
       "    }\n",
       "</style>\n",
       "<table border=\"1\" class=\"dataframe\">\n",
       "  <thead>\n",
       "    <tr style=\"text-align: right;\">\n",
       "      <th></th>\n",
       "      <th>time</th>\n",
       "      <th>CH1</th>\n",
       "      <th>CH2</th>\n",
       "      <th>CH3</th>\n",
       "      <th>CH4</th>\n",
       "      <th>CH5</th>\n",
       "      <th>CH6</th>\n",
       "      <th>CH7</th>\n",
       "      <th>CH8</th>\n",
       "      <th>Color Code</th>\n",
       "      <th>Frequency</th>\n",
       "    </tr>\n",
       "  </thead>\n",
       "  <tbody>\n",
       "    <tr>\n",
       "      <th>1</th>\n",
       "      <td>2022-06-22 18:59:37.945950</td>\n",
       "      <td>17353.313250</td>\n",
       "      <td>-1318.372943</td>\n",
       "      <td>1361.668272</td>\n",
       "      <td>1220.159378</td>\n",
       "      <td>-9085.246514</td>\n",
       "      <td>-24154.814977</td>\n",
       "      <td>-12353.406829</td>\n",
       "      <td>-6938.383810</td>\n",
       "      <td>NaN</td>\n",
       "      <td>0.0</td>\n",
       "    </tr>\n",
       "    <tr>\n",
       "      <th>2</th>\n",
       "      <td>2022-06-22 18:59:37.953394</td>\n",
       "      <td>17355.168445</td>\n",
       "      <td>-1321.926871</td>\n",
       "      <td>1356.594426</td>\n",
       "      <td>1212.492730</td>\n",
       "      <td>-9142.243462</td>\n",
       "      <td>-24167.287250</td>\n",
       "      <td>-12362.593396</td>\n",
       "      <td>-6945.424610</td>\n",
       "      <td>NaN</td>\n",
       "      <td>0.0</td>\n",
       "    </tr>\n",
       "    <tr>\n",
       "      <th>3</th>\n",
       "      <td>2022-06-22 18:59:37.953397</td>\n",
       "      <td>17361.583395</td>\n",
       "      <td>-1313.142635</td>\n",
       "      <td>1358.963711</td>\n",
       "      <td>1218.013611</td>\n",
       "      <td>-9102.703226</td>\n",
       "      <td>-24156.111378</td>\n",
       "      <td>-12354.569120</td>\n",
       "      <td>-6934.606366</td>\n",
       "      <td>NaN</td>\n",
       "      <td>0.0</td>\n",
       "    </tr>\n",
       "    <tr>\n",
       "      <th>4</th>\n",
       "      <td>2022-06-22 18:59:37.960028</td>\n",
       "      <td>17383.868084</td>\n",
       "      <td>-1291.953181</td>\n",
       "      <td>1372.598275</td>\n",
       "      <td>1234.620957</td>\n",
       "      <td>-9034.306888</td>\n",
       "      <td>-24136.486547</td>\n",
       "      <td>-12335.726599</td>\n",
       "      <td>-6908.410121</td>\n",
       "      <td>NaN</td>\n",
       "      <td>0.0</td>\n",
       "    </tr>\n",
       "    <tr>\n",
       "      <th>5</th>\n",
       "      <td>2022-06-22 18:59:37.960030</td>\n",
       "      <td>17363.170369</td>\n",
       "      <td>-1305.252469</td>\n",
       "      <td>1369.178458</td>\n",
       "      <td>1229.301242</td>\n",
       "      <td>-9065.889903</td>\n",
       "      <td>-24140.778082</td>\n",
       "      <td>-12340.375762</td>\n",
       "      <td>-6905.772615</td>\n",
       "      <td>NaN</td>\n",
       "      <td>0.0</td>\n",
       "    </tr>\n",
       "    <tr>\n",
       "      <th>...</th>\n",
       "      <td>...</td>\n",
       "      <td>...</td>\n",
       "      <td>...</td>\n",
       "      <td>...</td>\n",
       "      <td>...</td>\n",
       "      <td>...</td>\n",
       "      <td>...</td>\n",
       "      <td>...</td>\n",
       "      <td>...</td>\n",
       "      <td>...</td>\n",
       "      <td>...</td>\n",
       "    </tr>\n",
       "    <tr>\n",
       "      <th>61738</th>\n",
       "      <td>2022-06-22 19:03:44.493599</td>\n",
       "      <td>16584.480296</td>\n",
       "      <td>-2009.175957</td>\n",
       "      <td>1112.491025</td>\n",
       "      <td>709.600831</td>\n",
       "      <td>-9624.571755</td>\n",
       "      <td>-24316.887476</td>\n",
       "      <td>-12027.719561</td>\n",
       "      <td>-7022.851053</td>\n",
       "      <td>NaN</td>\n",
       "      <td>0.0</td>\n",
       "    </tr>\n",
       "    <tr>\n",
       "      <th>61739</th>\n",
       "      <td>2022-06-22 19:03:44.501661</td>\n",
       "      <td>16591.118764</td>\n",
       "      <td>-1992.769777</td>\n",
       "      <td>1120.358839</td>\n",
       "      <td>720.977869</td>\n",
       "      <td>-9550.006336</td>\n",
       "      <td>-24295.027470</td>\n",
       "      <td>-12017.303648</td>\n",
       "      <td>-7005.617858</td>\n",
       "      <td>NaN</td>\n",
       "      <td>0.0</td>\n",
       "    </tr>\n",
       "    <tr>\n",
       "      <th>61740</th>\n",
       "      <td>2022-06-22 19:03:44.501675</td>\n",
       "      <td>16594.918560</td>\n",
       "      <td>-1988.053559</td>\n",
       "      <td>1125.611499</td>\n",
       "      <td>723.525968</td>\n",
       "      <td>-9541.423266</td>\n",
       "      <td>-24290.579473</td>\n",
       "      <td>-12011.715712</td>\n",
       "      <td>-7000.365198</td>\n",
       "      <td>NaN</td>\n",
       "      <td>0.0</td>\n",
       "    </tr>\n",
       "    <tr>\n",
       "      <th>61741</th>\n",
       "      <td>2022-06-22 19:03:44.509766</td>\n",
       "      <td>16589.375328</td>\n",
       "      <td>-2002.202213</td>\n",
       "      <td>1118.838920</td>\n",
       "      <td>712.126578</td>\n",
       "      <td>-9615.452244</td>\n",
       "      <td>-24309.734918</td>\n",
       "      <td>-12020.924630</td>\n",
       "      <td>-7016.480805</td>\n",
       "      <td>NaN</td>\n",
       "      <td>0.0</td>\n",
       "    </tr>\n",
       "    <tr>\n",
       "      <th>61742</th>\n",
       "      <td>2022-06-22 19:03:44.509786</td>\n",
       "      <td>16588.078927</td>\n",
       "      <td>-2004.415036</td>\n",
       "      <td>1117.050781</td>\n",
       "      <td>710.271384</td>\n",
       "      <td>-9630.562023</td>\n",
       "      <td>-24311.008967</td>\n",
       "      <td>-12024.545613</td>\n",
       "      <td>-7019.900622</td>\n",
       "      <td>NaN</td>\n",
       "      <td>0.0</td>\n",
       "    </tr>\n",
       "  </tbody>\n",
       "</table>\n",
       "<p>61742 rows × 11 columns</p>\n",
       "</div>"
      ],
      "text/plain": [
       "                             time           CH1          CH2          CH3  \\\n",
       "1      2022-06-22 18:59:37.945950  17353.313250 -1318.372943  1361.668272   \n",
       "2      2022-06-22 18:59:37.953394  17355.168445 -1321.926871  1356.594426   \n",
       "3      2022-06-22 18:59:37.953397  17361.583395 -1313.142635  1358.963711   \n",
       "4      2022-06-22 18:59:37.960028  17383.868084 -1291.953181  1372.598275   \n",
       "5      2022-06-22 18:59:37.960030  17363.170369 -1305.252469  1369.178458   \n",
       "...                           ...           ...          ...          ...   \n",
       "61738  2022-06-22 19:03:44.493599  16584.480296 -2009.175957  1112.491025   \n",
       "61739  2022-06-22 19:03:44.501661  16591.118764 -1992.769777  1120.358839   \n",
       "61740  2022-06-22 19:03:44.501675  16594.918560 -1988.053559  1125.611499   \n",
       "61741  2022-06-22 19:03:44.509766  16589.375328 -2002.202213  1118.838920   \n",
       "61742  2022-06-22 19:03:44.509786  16588.078927 -2004.415036  1117.050781   \n",
       "\n",
       "               CH4          CH5           CH6           CH7          CH8  \\\n",
       "1      1220.159378 -9085.246514 -24154.814977 -12353.406829 -6938.383810   \n",
       "2      1212.492730 -9142.243462 -24167.287250 -12362.593396 -6945.424610   \n",
       "3      1218.013611 -9102.703226 -24156.111378 -12354.569120 -6934.606366   \n",
       "4      1234.620957 -9034.306888 -24136.486547 -12335.726599 -6908.410121   \n",
       "5      1229.301242 -9065.889903 -24140.778082 -12340.375762 -6905.772615   \n",
       "...            ...          ...           ...           ...          ...   \n",
       "61738   709.600831 -9624.571755 -24316.887476 -12027.719561 -7022.851053   \n",
       "61739   720.977869 -9550.006336 -24295.027470 -12017.303648 -7005.617858   \n",
       "61740   723.525968 -9541.423266 -24290.579473 -12011.715712 -7000.365198   \n",
       "61741   712.126578 -9615.452244 -24309.734918 -12020.924630 -7016.480805   \n",
       "61742   710.271384 -9630.562023 -24311.008967 -12024.545613 -7019.900622   \n",
       "\n",
       "       Color Code  Frequency  \n",
       "1             NaN        0.0  \n",
       "2             NaN        0.0  \n",
       "3             NaN        0.0  \n",
       "4             NaN        0.0  \n",
       "5             NaN        0.0  \n",
       "...           ...        ...  \n",
       "61738         NaN        0.0  \n",
       "61739         NaN        0.0  \n",
       "61740         NaN        0.0  \n",
       "61741         NaN        0.0  \n",
       "61742         NaN        0.0  \n",
       "\n",
       "[61742 rows x 11 columns]"
      ]
     },
     "execution_count": 17,
     "metadata": {},
     "output_type": "execute_result"
    }
   ],
   "source": [
    "data"
   ]
  },
  {
   "cell_type": "code",
   "execution_count": 18,
   "metadata": {
    "pycharm": {
     "name": "#%%\n"
    }
   },
   "outputs": [
    {
     "data": {
      "text/plain": [
       "array([[1, 0, 0, 0, 0],\n",
       "       [1, 0, 0, 0, 0],\n",
       "       [1, 0, 0, 0, 0],\n",
       "       ...,\n",
       "       [1, 0, 0, 0, 0],\n",
       "       [1, 0, 0, 0, 0],\n",
       "       [1, 0, 0, 0, 0]])"
      ]
     },
     "execution_count": 18,
     "metadata": {},
     "output_type": "execute_result"
    }
   ],
   "source": [
    "from tensorflow.keras.utils import to_categorical\n",
    "\n",
    "X = data[['CH1','CH2','CH3','CH4','CH5','CH6','CH7','CH8']]\n",
    "y = np.array(data['Frequency'])\n",
    "# y = to_categorical(y, num_classes=5)\n",
    "# y\n",
    "\n",
    "y_cat = []\n",
    "uni = np.unique(y)\n",
    "for i in y:\n",
    "    if i == uni[0]:\n",
    "        y_cat.append([1,0,0,0,0])\n",
    "    elif i == uni[1]:\n",
    "        y_cat.append([1,0,0,0,0])\n",
    "    elif i == uni[2]:\n",
    "        y_cat.append([0,0,1,0,0])\n",
    "    elif i == uni[3]:\n",
    "        y_cat.append([0,0,0,1,0])\n",
    "    elif i == uni[4]:\n",
    "        y_cat.append([0,0,0,0,1])\n",
    "    else:\n",
    "        print('error')\n",
    "y_cat = np.array(y_cat)\n",
    "y_cat"
   ]
  },
  {
   "cell_type": "code",
   "execution_count": 19,
   "metadata": {
    "pycharm": {
     "name": "#%%\n"
    }
   },
   "outputs": [
    {
     "name": "stdout",
     "output_type": "stream",
     "text": [
      "split\n"
     ]
    }
   ],
   "source": [
    "from sklearn.model_selection import train_test_split\n",
    "\n",
    "X_train, X_test, y_train, y_test = train_test_split(\n",
    "    X,\n",
    "    y_cat,\n",
    "    test_size=0.25,\n",
    "    random_state=42\n",
    ")\n",
    "print('split')"
   ]
  },
  {
   "cell_type": "code",
   "execution_count": 20,
   "metadata": {
    "pycharm": {
     "name": "#%%\n"
    }
   },
   "outputs": [],
   "source": [
    "from tensorflow.keras.layers import Dense, Input\n",
    "from tensorflow.keras.models import Model\n",
    "\n",
    "\n",
    "def neural_network():\n",
    "    inp = Input(shape=(8,))\n",
    "    x = Dense(64, activation='relu')(inp)\n",
    "    x = Dense(128, activation='relu')(x)\n",
    "    x = Dense(128, activation='relu')(x)\n",
    "    x = Dense(128, activation='relu')(x)\n",
    "    x = Dense(64, activation='relu')(x)\n",
    "    out = Dense(5, activation='softmax')(x)\n",
    "\n",
    "    model = Model(inp, out)\n",
    "    return model\n"
   ]
  },
  {
   "cell_type": "code",
   "execution_count": 21,
   "metadata": {
    "pycharm": {
     "name": "#%%\n"
    }
   },
   "outputs": [],
   "source": [
    "from tensorflow.keras import optimizers, losses\n",
    "\n",
    "\n",
    "model = neural_network()\n",
    "adam = optimizers.Adam(learning_rate=1e-4, beta_1=0.9, beta_2=0.999, epsilon=1e-08, decay=0.0)\n",
    "model.compile(\n",
    "    optimizer=adam, \n",
    "    loss=losses.CategoricalCrossentropy(),\n",
    "    metrics=['accuracy']\n",
    ")"
   ]
  },
  {
   "cell_type": "code",
   "execution_count": 22,
   "metadata": {
    "pycharm": {
     "name": "#%%\n"
    }
   },
   "outputs": [
    {
     "name": "stdout",
     "output_type": "stream",
     "text": [
      "Epoch 1/10\n",
      "2140/2895 [=====================>........] - ETA: 6s - loss: 13.9173 - accuracy: 0.5437"
     ]
    },
    {
     "ename": "KeyboardInterrupt",
     "evalue": "",
     "output_type": "error",
     "traceback": [
      "\u001B[0;31m---------------------------------------------------------------------------\u001B[0m",
      "\u001B[0;31mKeyboardInterrupt\u001B[0m                         Traceback (most recent call last)",
      "\u001B[1;32m/Users/rayaq/Desktop/watolink/mind-speech-interface-ssvep/EEG-AI-Layer/experimenting/understanding_data.ipynb Cell 20'\u001B[0m in \u001B[0;36m<cell line: 1>\u001B[0;34m()\u001B[0m\n\u001B[0;32m----> <a href='vscode-notebook-cell:/Users/rayaq/Desktop/watolink/mind-speech-interface-ssvep/EEG-AI-Layer/experimenting/understanding_data.ipynb#ch0000019?line=0'>1</a>\u001B[0m model\u001B[39m.\u001B[39;49mfit(\n\u001B[1;32m      <a href='vscode-notebook-cell:/Users/rayaq/Desktop/watolink/mind-speech-interface-ssvep/EEG-AI-Layer/experimenting/understanding_data.ipynb#ch0000019?line=1'>2</a>\u001B[0m     x\u001B[39m=\u001B[39;49mX_train,\n\u001B[1;32m      <a href='vscode-notebook-cell:/Users/rayaq/Desktop/watolink/mind-speech-interface-ssvep/EEG-AI-Layer/experimenting/understanding_data.ipynb#ch0000019?line=2'>3</a>\u001B[0m     y\u001B[39m=\u001B[39;49my_train,\n\u001B[1;32m      <a href='vscode-notebook-cell:/Users/rayaq/Desktop/watolink/mind-speech-interface-ssvep/EEG-AI-Layer/experimenting/understanding_data.ipynb#ch0000019?line=3'>4</a>\u001B[0m     batch_size\u001B[39m=\u001B[39;49m\u001B[39m16\u001B[39;49m,\n\u001B[1;32m      <a href='vscode-notebook-cell:/Users/rayaq/Desktop/watolink/mind-speech-interface-ssvep/EEG-AI-Layer/experimenting/understanding_data.ipynb#ch0000019?line=4'>5</a>\u001B[0m     epochs\u001B[39m=\u001B[39;49m\u001B[39m10\u001B[39;49m,\n\u001B[1;32m      <a href='vscode-notebook-cell:/Users/rayaq/Desktop/watolink/mind-speech-interface-ssvep/EEG-AI-Layer/experimenting/understanding_data.ipynb#ch0000019?line=5'>6</a>\u001B[0m     verbose\u001B[39m=\u001B[39;49m\u001B[39m1\u001B[39;49m,\n\u001B[1;32m      <a href='vscode-notebook-cell:/Users/rayaq/Desktop/watolink/mind-speech-interface-ssvep/EEG-AI-Layer/experimenting/understanding_data.ipynb#ch0000019?line=6'>7</a>\u001B[0m     validation_data\u001B[39m=\u001B[39;49m(X_test, y_test),\n\u001B[1;32m      <a href='vscode-notebook-cell:/Users/rayaq/Desktop/watolink/mind-speech-interface-ssvep/EEG-AI-Layer/experimenting/understanding_data.ipynb#ch0000019?line=7'>8</a>\u001B[0m     shuffle\u001B[39m=\u001B[39;49m\u001B[39mTrue\u001B[39;49;00m\n\u001B[1;32m      <a href='vscode-notebook-cell:/Users/rayaq/Desktop/watolink/mind-speech-interface-ssvep/EEG-AI-Layer/experimenting/understanding_data.ipynb#ch0000019?line=8'>9</a>\u001B[0m )\n",
      "File \u001B[0;32m~/miniforge3/envs/ml/lib/python3.8/site-packages/keras/utils/traceback_utils.py:64\u001B[0m, in \u001B[0;36mfilter_traceback.<locals>.error_handler\u001B[0;34m(*args, **kwargs)\u001B[0m\n\u001B[1;32m     62\u001B[0m filtered_tb \u001B[39m=\u001B[39m \u001B[39mNone\u001B[39;00m\n\u001B[1;32m     63\u001B[0m \u001B[39mtry\u001B[39;00m:\n\u001B[0;32m---> 64\u001B[0m   \u001B[39mreturn\u001B[39;00m fn(\u001B[39m*\u001B[39;49margs, \u001B[39m*\u001B[39;49m\u001B[39m*\u001B[39;49mkwargs)\n\u001B[1;32m     65\u001B[0m \u001B[39mexcept\u001B[39;00m \u001B[39mException\u001B[39;00m \u001B[39mas\u001B[39;00m e:  \u001B[39m# pylint: disable=broad-except\u001B[39;00m\n\u001B[1;32m     66\u001B[0m   filtered_tb \u001B[39m=\u001B[39m _process_traceback_frames(e\u001B[39m.\u001B[39m__traceback__)\n",
      "File \u001B[0;32m~/miniforge3/envs/ml/lib/python3.8/site-packages/keras/engine/training.py:1389\u001B[0m, in \u001B[0;36mModel.fit\u001B[0;34m(self, x, y, batch_size, epochs, verbose, callbacks, validation_split, validation_data, shuffle, class_weight, sample_weight, initial_epoch, steps_per_epoch, validation_steps, validation_batch_size, validation_freq, max_queue_size, workers, use_multiprocessing)\u001B[0m\n\u001B[1;32m   1387\u001B[0m logs \u001B[39m=\u001B[39m tmp_logs  \u001B[39m# No error, now safe to assign to logs.\u001B[39;00m\n\u001B[1;32m   1388\u001B[0m end_step \u001B[39m=\u001B[39m step \u001B[39m+\u001B[39m data_handler\u001B[39m.\u001B[39mstep_increment\n\u001B[0;32m-> 1389\u001B[0m callbacks\u001B[39m.\u001B[39;49mon_train_batch_end(end_step, logs)\n\u001B[1;32m   1390\u001B[0m \u001B[39mif\u001B[39;00m \u001B[39mself\u001B[39m\u001B[39m.\u001B[39mstop_training:\n\u001B[1;32m   1391\u001B[0m   \u001B[39mbreak\u001B[39;00m\n",
      "File \u001B[0;32m~/miniforge3/envs/ml/lib/python3.8/site-packages/keras/callbacks.py:438\u001B[0m, in \u001B[0;36mCallbackList.on_train_batch_end\u001B[0;34m(self, batch, logs)\u001B[0m\n\u001B[1;32m    431\u001B[0m \u001B[39m\"\"\"Calls the `on_train_batch_end` methods of its callbacks.\u001B[39;00m\n\u001B[1;32m    432\u001B[0m \n\u001B[1;32m    433\u001B[0m \u001B[39mArgs:\u001B[39;00m\n\u001B[1;32m    434\u001B[0m \u001B[39m    batch: Integer, index of batch within the current epoch.\u001B[39;00m\n\u001B[1;32m    435\u001B[0m \u001B[39m    logs: Dict. Aggregated metric results up until this batch.\u001B[39;00m\n\u001B[1;32m    436\u001B[0m \u001B[39m\"\"\"\u001B[39;00m\n\u001B[1;32m    437\u001B[0m \u001B[39mif\u001B[39;00m \u001B[39mself\u001B[39m\u001B[39m.\u001B[39m_should_call_train_batch_hooks:\n\u001B[0;32m--> 438\u001B[0m   \u001B[39mself\u001B[39;49m\u001B[39m.\u001B[39;49m_call_batch_hook(ModeKeys\u001B[39m.\u001B[39;49mTRAIN, \u001B[39m'\u001B[39;49m\u001B[39mend\u001B[39;49m\u001B[39m'\u001B[39;49m, batch, logs\u001B[39m=\u001B[39;49mlogs)\n",
      "File \u001B[0;32m~/miniforge3/envs/ml/lib/python3.8/site-packages/keras/callbacks.py:297\u001B[0m, in \u001B[0;36mCallbackList._call_batch_hook\u001B[0;34m(self, mode, hook, batch, logs)\u001B[0m\n\u001B[1;32m    295\u001B[0m   \u001B[39mself\u001B[39m\u001B[39m.\u001B[39m_call_batch_begin_hook(mode, batch, logs)\n\u001B[1;32m    296\u001B[0m \u001B[39melif\u001B[39;00m hook \u001B[39m==\u001B[39m \u001B[39m'\u001B[39m\u001B[39mend\u001B[39m\u001B[39m'\u001B[39m:\n\u001B[0;32m--> 297\u001B[0m   \u001B[39mself\u001B[39;49m\u001B[39m.\u001B[39;49m_call_batch_end_hook(mode, batch, logs)\n\u001B[1;32m    298\u001B[0m \u001B[39melse\u001B[39;00m:\n\u001B[1;32m    299\u001B[0m   \u001B[39mraise\u001B[39;00m \u001B[39mValueError\u001B[39;00m(\n\u001B[1;32m    300\u001B[0m       \u001B[39mf\u001B[39m\u001B[39m'\u001B[39m\u001B[39mUnrecognized hook: \u001B[39m\u001B[39m{\u001B[39;00mhook\u001B[39m}\u001B[39;00m\u001B[39m. Expected values are [\u001B[39m\u001B[39m\"\u001B[39m\u001B[39mbegin\u001B[39m\u001B[39m\"\u001B[39m\u001B[39m, \u001B[39m\u001B[39m\"\u001B[39m\u001B[39mend\u001B[39m\u001B[39m\"\u001B[39m\u001B[39m]\u001B[39m\u001B[39m'\u001B[39m)\n",
      "File \u001B[0;32m~/miniforge3/envs/ml/lib/python3.8/site-packages/keras/callbacks.py:318\u001B[0m, in \u001B[0;36mCallbackList._call_batch_end_hook\u001B[0;34m(self, mode, batch, logs)\u001B[0m\n\u001B[1;32m    315\u001B[0m   batch_time \u001B[39m=\u001B[39m time\u001B[39m.\u001B[39mtime() \u001B[39m-\u001B[39m \u001B[39mself\u001B[39m\u001B[39m.\u001B[39m_batch_start_time\n\u001B[1;32m    316\u001B[0m   \u001B[39mself\u001B[39m\u001B[39m.\u001B[39m_batch_times\u001B[39m.\u001B[39mappend(batch_time)\n\u001B[0;32m--> 318\u001B[0m \u001B[39mself\u001B[39;49m\u001B[39m.\u001B[39;49m_call_batch_hook_helper(hook_name, batch, logs)\n\u001B[1;32m    320\u001B[0m \u001B[39mif\u001B[39;00m \u001B[39mlen\u001B[39m(\u001B[39mself\u001B[39m\u001B[39m.\u001B[39m_batch_times) \u001B[39m>\u001B[39m\u001B[39m=\u001B[39m \u001B[39mself\u001B[39m\u001B[39m.\u001B[39m_num_batches_for_timing_check:\n\u001B[1;32m    321\u001B[0m   end_hook_name \u001B[39m=\u001B[39m hook_name\n",
      "File \u001B[0;32m~/miniforge3/envs/ml/lib/python3.8/site-packages/keras/callbacks.py:356\u001B[0m, in \u001B[0;36mCallbackList._call_batch_hook_helper\u001B[0;34m(self, hook_name, batch, logs)\u001B[0m\n\u001B[1;32m    354\u001B[0m \u001B[39mfor\u001B[39;00m callback \u001B[39min\u001B[39;00m \u001B[39mself\u001B[39m\u001B[39m.\u001B[39mcallbacks:\n\u001B[1;32m    355\u001B[0m   hook \u001B[39m=\u001B[39m \u001B[39mgetattr\u001B[39m(callback, hook_name)\n\u001B[0;32m--> 356\u001B[0m   hook(batch, logs)\n\u001B[1;32m    358\u001B[0m \u001B[39mif\u001B[39;00m \u001B[39mself\u001B[39m\u001B[39m.\u001B[39m_check_timing:\n\u001B[1;32m    359\u001B[0m   \u001B[39mif\u001B[39;00m hook_name \u001B[39mnot\u001B[39;00m \u001B[39min\u001B[39;00m \u001B[39mself\u001B[39m\u001B[39m.\u001B[39m_hook_times:\n",
      "File \u001B[0;32m~/miniforge3/envs/ml/lib/python3.8/site-packages/keras/callbacks.py:1034\u001B[0m, in \u001B[0;36mProgbarLogger.on_train_batch_end\u001B[0;34m(self, batch, logs)\u001B[0m\n\u001B[1;32m   1033\u001B[0m \u001B[39mdef\u001B[39;00m \u001B[39mon_train_batch_end\u001B[39m(\u001B[39mself\u001B[39m, batch, logs\u001B[39m=\u001B[39m\u001B[39mNone\u001B[39;00m):\n\u001B[0;32m-> 1034\u001B[0m   \u001B[39mself\u001B[39;49m\u001B[39m.\u001B[39;49m_batch_update_progbar(batch, logs)\n",
      "File \u001B[0;32m~/miniforge3/envs/ml/lib/python3.8/site-packages/keras/callbacks.py:1106\u001B[0m, in \u001B[0;36mProgbarLogger._batch_update_progbar\u001B[0;34m(self, batch, logs)\u001B[0m\n\u001B[1;32m   1102\u001B[0m   \u001B[39mself\u001B[39m\u001B[39m.\u001B[39mseen \u001B[39m+\u001B[39m\u001B[39m=\u001B[39m add_seen\n\u001B[1;32m   1104\u001B[0m \u001B[39mif\u001B[39;00m \u001B[39mself\u001B[39m\u001B[39m.\u001B[39mverbose \u001B[39m==\u001B[39m \u001B[39m1\u001B[39m:\n\u001B[1;32m   1105\u001B[0m   \u001B[39m# Only block async when verbose = 1.\u001B[39;00m\n\u001B[0;32m-> 1106\u001B[0m   logs \u001B[39m=\u001B[39m tf_utils\u001B[39m.\u001B[39;49msync_to_numpy_or_python_type(logs)\n\u001B[1;32m   1107\u001B[0m   \u001B[39mself\u001B[39m\u001B[39m.\u001B[39mprogbar\u001B[39m.\u001B[39mupdate(\u001B[39mself\u001B[39m\u001B[39m.\u001B[39mseen, \u001B[39mlist\u001B[39m(logs\u001B[39m.\u001B[39mitems()), finalize\u001B[39m=\u001B[39m\u001B[39mFalse\u001B[39;00m)\n",
      "File \u001B[0;32m~/miniforge3/envs/ml/lib/python3.8/site-packages/keras/utils/tf_utils.py:563\u001B[0m, in \u001B[0;36msync_to_numpy_or_python_type\u001B[0;34m(tensors)\u001B[0m\n\u001B[1;32m    560\u001B[0m     \u001B[39mreturn\u001B[39;00m t\n\u001B[1;32m    561\u001B[0m   \u001B[39mreturn\u001B[39;00m t\u001B[39m.\u001B[39mitem() \u001B[39mif\u001B[39;00m np\u001B[39m.\u001B[39mndim(t) \u001B[39m==\u001B[39m \u001B[39m0\u001B[39m \u001B[39melse\u001B[39;00m t\n\u001B[0;32m--> 563\u001B[0m \u001B[39mreturn\u001B[39;00m tf\u001B[39m.\u001B[39;49mnest\u001B[39m.\u001B[39;49mmap_structure(_to_single_numpy_or_python_type, tensors)\n",
      "File \u001B[0;32m~/miniforge3/envs/ml/lib/python3.8/site-packages/tensorflow/python/util/nest.py:914\u001B[0m, in \u001B[0;36mmap_structure\u001B[0;34m(func, *structure, **kwargs)\u001B[0m\n\u001B[1;32m    910\u001B[0m flat_structure \u001B[39m=\u001B[39m (flatten(s, expand_composites) \u001B[39mfor\u001B[39;00m s \u001B[39min\u001B[39;00m structure)\n\u001B[1;32m    911\u001B[0m entries \u001B[39m=\u001B[39m \u001B[39mzip\u001B[39m(\u001B[39m*\u001B[39mflat_structure)\n\u001B[1;32m    913\u001B[0m \u001B[39mreturn\u001B[39;00m pack_sequence_as(\n\u001B[0;32m--> 914\u001B[0m     structure[\u001B[39m0\u001B[39m], [func(\u001B[39m*\u001B[39mx) \u001B[39mfor\u001B[39;00m x \u001B[39min\u001B[39;00m entries],\n\u001B[1;32m    915\u001B[0m     expand_composites\u001B[39m=\u001B[39mexpand_composites)\n",
      "File \u001B[0;32m~/miniforge3/envs/ml/lib/python3.8/site-packages/tensorflow/python/util/nest.py:914\u001B[0m, in \u001B[0;36m<listcomp>\u001B[0;34m(.0)\u001B[0m\n\u001B[1;32m    910\u001B[0m flat_structure \u001B[39m=\u001B[39m (flatten(s, expand_composites) \u001B[39mfor\u001B[39;00m s \u001B[39min\u001B[39;00m structure)\n\u001B[1;32m    911\u001B[0m entries \u001B[39m=\u001B[39m \u001B[39mzip\u001B[39m(\u001B[39m*\u001B[39mflat_structure)\n\u001B[1;32m    913\u001B[0m \u001B[39mreturn\u001B[39;00m pack_sequence_as(\n\u001B[0;32m--> 914\u001B[0m     structure[\u001B[39m0\u001B[39m], [func(\u001B[39m*\u001B[39;49mx) \u001B[39mfor\u001B[39;00m x \u001B[39min\u001B[39;00m entries],\n\u001B[1;32m    915\u001B[0m     expand_composites\u001B[39m=\u001B[39mexpand_composites)\n",
      "File \u001B[0;32m~/miniforge3/envs/ml/lib/python3.8/site-packages/keras/utils/tf_utils.py:557\u001B[0m, in \u001B[0;36msync_to_numpy_or_python_type.<locals>._to_single_numpy_or_python_type\u001B[0;34m(t)\u001B[0m\n\u001B[1;32m    554\u001B[0m \u001B[39mdef\u001B[39;00m \u001B[39m_to_single_numpy_or_python_type\u001B[39m(t):\n\u001B[1;32m    555\u001B[0m   \u001B[39m# Don't turn ragged or sparse tensors to NumPy.\u001B[39;00m\n\u001B[1;32m    556\u001B[0m   \u001B[39mif\u001B[39;00m \u001B[39misinstance\u001B[39m(t, tf\u001B[39m.\u001B[39mTensor):\n\u001B[0;32m--> 557\u001B[0m     t \u001B[39m=\u001B[39m t\u001B[39m.\u001B[39;49mnumpy()\n\u001B[1;32m    558\u001B[0m   \u001B[39m# Strings, ragged and sparse tensors don't have .item(). Return them as-is.\u001B[39;00m\n\u001B[1;32m    559\u001B[0m   \u001B[39mif\u001B[39;00m \u001B[39mnot\u001B[39;00m \u001B[39misinstance\u001B[39m(t, (np\u001B[39m.\u001B[39mndarray, np\u001B[39m.\u001B[39mgeneric)):\n",
      "File \u001B[0;32m~/miniforge3/envs/ml/lib/python3.8/site-packages/tensorflow/python/framework/ops.py:1223\u001B[0m, in \u001B[0;36m_EagerTensorBase.numpy\u001B[0;34m(self)\u001B[0m\n\u001B[1;32m   1200\u001B[0m \u001B[39m\"\"\"Copy of the contents of this Tensor into a NumPy array or scalar.\u001B[39;00m\n\u001B[1;32m   1201\u001B[0m \n\u001B[1;32m   1202\u001B[0m \u001B[39mUnlike NumPy arrays, Tensors are immutable, so this method has to copy\u001B[39;00m\n\u001B[0;32m   (...)\u001B[0m\n\u001B[1;32m   1220\u001B[0m \u001B[39m    NumPy dtype.\u001B[39;00m\n\u001B[1;32m   1221\u001B[0m \u001B[39m\"\"\"\u001B[39;00m\n\u001B[1;32m   1222\u001B[0m \u001B[39m# TODO(slebedev): Consider avoiding a copy for non-CPU or remote tensors.\u001B[39;00m\n\u001B[0;32m-> 1223\u001B[0m maybe_arr \u001B[39m=\u001B[39m \u001B[39mself\u001B[39;49m\u001B[39m.\u001B[39;49m_numpy()  \u001B[39m# pylint: disable=protected-access\u001B[39;00m\n\u001B[1;32m   1224\u001B[0m \u001B[39mreturn\u001B[39;00m maybe_arr\u001B[39m.\u001B[39mcopy() \u001B[39mif\u001B[39;00m \u001B[39misinstance\u001B[39m(maybe_arr, np\u001B[39m.\u001B[39mndarray) \u001B[39melse\u001B[39;00m maybe_arr\n",
      "\u001B[0;31mKeyboardInterrupt\u001B[0m: "
     ]
    }
   ],
   "source": [
    "model.fit(\n",
    "    x=X_train,\n",
    "    y=y_train,\n",
    "    batch_size=16,\n",
    "    epochs=10,\n",
    "    verbose=1,\n",
    "    validation_data=(X_test, y_test),\n",
    "    shuffle=True\n",
    ")"
   ]
  },
  {
   "cell_type": "code",
   "execution_count": 23,
   "metadata": {
    "pycharm": {
     "name": "#%%\n"
    }
   },
   "outputs": [
    {
     "data": {
      "text/plain": [
       "RandomForestClassifier(max_depth=4, random_state=0)"
      ]
     },
     "execution_count": 23,
     "metadata": {},
     "output_type": "execute_result"
    }
   ],
   "source": [
    "from sklearn.ensemble import RandomForestClassifier\n",
    "\n",
    "clf = RandomForestClassifier(max_depth=4, random_state=0)\n",
    "clf"
   ]
  },
  {
   "cell_type": "code",
   "execution_count": 24,
   "metadata": {
    "pycharm": {
     "name": "#%%\n"
    }
   },
   "outputs": [
    {
     "data": {
      "text/plain": [
       "RandomForestClassifier(max_depth=4, random_state=0)"
      ]
     },
     "execution_count": 24,
     "metadata": {},
     "output_type": "execute_result"
    }
   ],
   "source": [
    "clf.fit(X_train, y_train)"
   ]
  },
  {
   "cell_type": "code",
   "execution_count": 29,
   "metadata": {
    "pycharm": {
     "name": "#%%\n"
    }
   },
   "outputs": [
    {
     "data": {
      "text/plain": [
       "array([[1, 0, 0, 0, 0],\n",
       "       [1, 0, 0, 0, 0],\n",
       "       [0, 0, 0, 0, 0],\n",
       "       ...,\n",
       "       [1, 0, 0, 0, 0],\n",
       "       [1, 0, 0, 0, 0],\n",
       "       [1, 0, 0, 0, 0]])"
      ]
     },
     "execution_count": 29,
     "metadata": {},
     "output_type": "execute_result"
    }
   ],
   "source": [
    "clf.predict(X_test)"
   ]
  },
  {
   "cell_type": "code",
   "execution_count": 30,
   "metadata": {
    "pycharm": {
     "name": "#%%\n"
    }
   },
   "outputs": [
    {
     "data": {
      "text/plain": [
       "0.6843094065820161"
      ]
     },
     "execution_count": 30,
     "metadata": {},
     "output_type": "execute_result"
    }
   ],
   "source": [
    "clf.score(X_test, y_test)"
   ]
  }
 ],
 "metadata": {
  "kernelspec": {
   "display_name": "Python 3.8.13 ('ml')",
   "language": "python",
   "name": "python3"
  },
  "language_info": {
   "codemirror_mode": {
    "name": "ipython",
    "version": 3
   },
   "file_extension": ".py",
   "mimetype": "text/x-python",
   "name": "python",
   "nbconvert_exporter": "python",
   "pygments_lexer": "ipython3",
   "version": "3.8.13"
  },
  "orig_nbformat": 4,
  "vscode": {
   "interpreter": {
    "hash": "9af30963835933b21408ee5eecfbf720fcadebfe3f3c64ab8e2d3dc6f0d4daa2"
   }
  }
 },
 "nbformat": 4,
 "nbformat_minor": 2
}