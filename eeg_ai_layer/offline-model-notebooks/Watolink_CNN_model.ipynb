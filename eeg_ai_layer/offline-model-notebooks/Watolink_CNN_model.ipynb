{
 "cells": [
  {
   "cell_type": "markdown",
   "metadata": {
    "id": "pvd_gJbT0Z4O"
   },
   "source": [
    "##  CNN Model for SSVEP \n",
    "classification on EEG dataset for BCI\n",
    "\n",
    "In this notebook, we will be using SSVEP EEG data to classify an ssvep stimuli of a particular frequency\n",
    "\n",
    "The dataset used will be in the WATOLINK-data format (refer to https://docs.google.com/document/d/1iVEE2In7eUX1bruULMqP5EWzkU26FuvoLZINJcEDC5U/edit)"
   ]
  },
  {
   "cell_type": "code",
   "execution_count": 6,
   "metadata": {
    "colab": {
     "base_uri": "https://localhost:8080/"
    },
    "id": "5KlpFsXh5EII",
    "outputId": "08cb7749-2be0-4acf-ae73-3ece9fd09526"
   },
   "outputs": [],
   "source": [
    "#!pip install -q -r requirements.txt"
   ]
  },
  {
   "cell_type": "code",
   "execution_count": 1,
   "metadata": {
    "id": "3I66sIj8vDqV"
   },
   "outputs": [],
   "source": [
    "import os\n",
    "import zipfile\n",
    "import numpy as np\n",
    "import numpy.matlib as npm\n",
    "import matplotlib.pyplot as plt\n",
    "import matplotlib.gridspec as gridspec\n",
    "import scipy.io as sio\n",
    "import pandas as pd\n",
    "import warnings\n",
    "import itertools\n",
    "\n",
    "\n",
    "from CNN_files.Preprocess import Preprocess\n",
    "from CNN_files import ssvep_utils as su\n",
    "\n",
    "from scipy.signal import butter, filtfilt\n",
    "\n",
    "from sklearn.model_selection import KFold \n",
    "from sklearn.metrics import confusion_matrix\n",
    "from sklearn.metrics import accuracy_score, precision_recall_fscore_support\n",
    "from sklearn.utils import shuffle\n",
    "\n",
    "import tensorflow as tf\n",
    "from tensorflow import keras\n",
    "\n",
    "from keras.layers import Dense, LSTM, Input\n",
    "from keras.models import Sequential\n",
    "from keras.layers import Dense, Activation, Flatten, Dropout, Conv2D, BatchNormalization\n",
    "from keras.layers import Input,Flatten, Dense\n",
    "from keras.layers.convolutional import Convolution2D, MaxPooling2D\n",
    "from keras.layers.core import Dropout, Activation\n",
    "from keras.layers.pooling import GlobalAveragePooling2D\n",
    "from keras.models import Model\n",
    "from keras.models import load_model\n",
    "from keras import optimizers\n",
    "from keras.losses import categorical_crossentropy\n",
    "from keras.layers import Dense, Activation, Flatten, Dropout, Conv2D, BatchNormalization\n",
    "from keras.utils.np_utils import to_categorical\n",
    "from keras import initializers, regularizers"
   ]
  },
  {
   "cell_type": "markdown",
   "metadata": {
    "id": "fjKx6IcONSoF"
   },
   "source": [
    "# Feature Extraction\n"
   ]
  },
  {
   "cell_type": "code",
   "execution_count": 6,
   "metadata": {
    "id": "ypgAFHgr6UdS"
   },
   "outputs": [],
   "source": [
    "data_path = os.path.abspath('../data')\n",
    "\n",
    "\n",
    "# define params\n",
    "CNN_PARAMS = {\n",
    "    'batch_size': 64,\n",
    "    'epochs': 250,\n",
    "    'droprate': 0.25,\n",
    "    'learning_rate': 0.001,\n",
    "    'lr_decay': 0.0,\n",
    "    'l2_lambda': 0.0001,\n",
    "    'momentum': 0.9,\n",
    "    'kernel_f': 10,\n",
    "    'n_ch': 8, \n",
    "    'num_classes': 5} # can be changed\n",
    "\n",
    "FFT_PARAMS =  {'resolution': 0.2930,\n",
    "                        'start_frequency': 3.0,\n",
    "                        'end_frequency': 35.0,\n",
    "                        'sampling_rate': 250 }\n",
    "\n",
    "window_len = 1\n",
    "shift_len = 1\n",
    "    \n",
    "all_acc = np.zeros((10, 1))\n",
    "\n",
    "magnitude_spectrum_features = dict()\n"
   ]
  },
  {
   "cell_type": "markdown",
   "metadata": {
    "id": "hYNx43LL9A9V"
   },
   "source": [
    "NOTE: a fourier transform essentially uses math to identify underlying frequencies within a specific signal\n",
    "\n",
    "* magnitude_spectrum: the magnitudes of frequency attained from the transform\n",
    "\n",
    "* window_len: the size of the window we apply the transofrm to, everwhere else is tapered to around 0\n",
    "\n",
    "* shift_len: the length we want to shift after applying the window function\n",
    "\n",
    "* flicker_freq: the labels of frequencies we are attempting to classify"
   ]
  },
  {
   "cell_type": "code",
   "execution_count": 7,
   "metadata": {
    "id": "tvJy67Di8BjE"
   },
   "outputs": [],
   "source": [
    "data_path = \"/content/Brain-computer-interfaces/data\"\n",
    "magnitude_spectrum = dict()\n",
    "window_len = 1\n",
    "shift_len = 1\n",
    "sample_rate = FFT_PARAMS['sampling_rate']\n",
    "#flicker_freq = np.array([0, 5.0, 6.0, 7.0, 8.0, 9.0, 10.0, 11.0, 12.0, 14.0, 16.0, 18.0, 20.0]) # for watolink\n",
    "#flicker_freq = np.array([5.0, 6.0, 7.0, 8.0, 9.0, 10.0, 11.0, 12.0, 14.0, 16.0, 18.0, 20.0]) # for watolink\n",
    "flicker_freq = np.array([0,10.25,11.75,12.75,14.75])\n"
   ]
  },
  {
   "cell_type": "code",
   "execution_count": 10,
   "metadata": {
    "id": "5jITF1uZ7HTe"
   },
   "outputs": [],
   "source": [
    "all_segmented_data = dict()\n",
    "for subject in range(1):\n",
    "  eeg = d \n",
    "  total_trial_len = eeg.shape[2]\n",
    "  num_trials = eeg.shape[3]\n",
    "  sample_rate = 250 \n",
    "  filtered_data = su.get_filtered_eeg(eeg, 6, 80, 4, sample_rate)\n",
    "  all_segmented_data[f's{subject+1}'] = su.get_segmented_epochs(filtered_data, window_len, \n",
    "                                                                  shift_len, sample_rate)\n",
    "\n"
   ]
  },
  {
   "cell_type": "code",
   "execution_count": 11,
   "metadata": {
    "colab": {
     "base_uri": "https://localhost:8080/"
    },
    "id": "KaZvruhsWHvp",
    "outputId": "ff86866c-4afb-497f-e00e-8e3a36fab55b"
   },
   "outputs": [
    {
     "data": {
      "text/plain": [
       "(5, 8, 15, 4, 250)"
      ]
     },
     "execution_count": 11,
     "metadata": {},
     "output_type": "execute_result"
    }
   ],
   "source": [
    "all_segmented_data['s1'].shape"
   ]
  },
  {
   "cell_type": "code",
   "execution_count": 12,
   "metadata": {
    "id": "45YKRHnI3KQM"
   },
   "outputs": [],
   "source": [
    "for subject in all_segmented_data.keys():\n",
    "    magnitude_spectrum_features[subject] = su.magnitude_spectrum_features(all_segmented_data[subject], \n",
    "                                                                          FFT_PARAMS)\n",
    "   "
   ]
  },
  {
   "cell_type": "code",
   "execution_count": 13,
   "metadata": {
    "colab": {
     "base_uri": "https://localhost:8080/"
    },
    "id": "FdoSch_7H7um",
    "outputId": "44c25b5d-02ed-4bea-bfa6-e3404ae9b6f4"
   },
   "outputs": [
    {
     "data": {
      "text/plain": [
       "(110, 8, 5, 15, 4)"
      ]
     },
     "execution_count": 13,
     "metadata": {},
     "output_type": "execute_result"
    }
   ],
   "source": [
    "magnitude_spectrum_features['s1'].shape"
   ]
  },
  {
   "cell_type": "code",
   "execution_count": 14,
   "metadata": {
    "id": "vRsBrNGW4Wnd"
   },
   "outputs": [],
   "source": [
    "mcnn_training_data = dict()\n",
    "mcnn_results = dict()\n"
   ]
  },
  {
   "cell_type": "code",
   "execution_count": 15,
   "metadata": {
    "id": "bLLcb65ivmwt"
   },
   "outputs": [],
   "source": [
    "\n",
    "#function to get training data\n",
    "\n",
    "def get_training_data(features_data):\n",
    "    features_data = np.reshape(features_data, (features_data.shape[0], features_data.shape[1], \n",
    "                                               features_data.shape[2], \n",
    "                                               features_data.shape[3]*features_data.shape[4]))\n",
    "    train_data = features_data[:, :, 0, :].T\n",
    "    for target in range(1, features_data.shape[2]):\n",
    "        train_data = np.vstack([train_data, np.squeeze(features_data[:, :, target, :]).T])\n",
    "\n",
    "    train_data = np.reshape(train_data, (train_data.shape[0], train_data.shape[1], \n",
    "                                         train_data.shape[2], 1))\n",
    "    total_epochs_per_class = features_data.shape[3]\n",
    "    features_data = []\n",
    "    class_labels = np.arange(CNN_PARAMS['num_classes'])\n",
    "    labels = (npm.repmat(class_labels, total_epochs_per_class, 1).T).ravel()\n",
    "    labels = to_categorical(labels)\n",
    "    \n",
    "    return train_data, labels"
   ]
  },
  {
   "cell_type": "code",
   "execution_count": 16,
   "metadata": {
    "id": "3kXrwQDvFKeZ"
   },
   "outputs": [],
   "source": [
    "mcnn_training_data = dict()\n",
    "mcnn_results = dict()\n",
    "\n",
    "for subject in all_segmented_data.keys():\n",
    "    mcnn_training_data[subject] = dict()\n",
    "   \n",
    "    train_data, labels = get_training_data(magnitude_spectrum_features[subject])\n",
    "    mcnn_training_data[subject]['train_data'] = train_data\n",
    "    mcnn_training_data[subject]['label'] = labels\n",
    "    \n",
    "   \n",
    "    "
   ]
  },
  {
   "cell_type": "code",
   "execution_count": 17,
   "metadata": {
    "colab": {
     "base_uri": "https://localhost:8080/"
    },
    "id": "j9ldWF60pUbi",
    "outputId": "ef24447d-c920-4528-d39b-b0ad7d8c0e29"
   },
   "outputs": [
    {
     "data": {
      "text/plain": [
       "(300, 8, 110, 1)"
      ]
     },
     "execution_count": 17,
     "metadata": {},
     "output_type": "execute_result"
    }
   ],
   "source": [
    "mcnn_training_data['s1']['train_data'].shape"
   ]
  },
  {
   "cell_type": "code",
   "execution_count": 18,
   "metadata": {
    "colab": {
     "base_uri": "https://localhost:8080/"
    },
    "id": "ku3xP6s0pZql",
    "outputId": "98dbd6e5-5af2-4983-d706-9998ee82da6c"
   },
   "outputs": [
    {
     "data": {
      "text/plain": [
       "(300, 5)"
      ]
     },
     "execution_count": 18,
     "metadata": {},
     "output_type": "execute_result"
    }
   ],
   "source": [
    "mcnn_training_data['s1']['label'].shape"
   ]
  },
  {
   "cell_type": "markdown",
   "metadata": {
    "id": "ZcKQT97qKFXt"
   },
   "source": [
    "# Display Data"
   ]
  },
  {
   "cell_type": "code",
   "execution_count": null,
   "metadata": {
    "id": "U5TGkmBQGUu3"
   },
   "outputs": [],
   "source": [
    "# Mika you should probably input your script here"
   ]
  },
  {
   "cell_type": "markdown",
   "metadata": {
    "id": "27wObO_0wAyy"
   },
   "source": [
    "Remember data is structured as [Number of targets, Number of channels, Number of sampling points, Number of trials] = size(eeg)\n",
    "\n",
    "* Number of targets: 12\n",
    "* Number of channels: 8 \n",
    "* Number of sampling points: 1114 \n",
    "* Number of trials: 2 (WATOLINK DATA FORMAT RN)\n",
    "* Sampling rate [Hz] : 250"
   ]
  },
  {
   "cell_type": "markdown",
   "metadata": {
    "id": "Osk2ePgm5MW6"
   },
   "source": [
    "The data needs to be reshaped so that the 8 channels data at a particular time is grouped together"
   ]
  },
  {
   "cell_type": "code",
   "execution_count": null,
   "metadata": {
    "colab": {
     "base_uri": "https://localhost:8080/"
    },
    "id": "zngow4uG7RNW",
    "outputId": "ee75fc5c-637b-4183-ad33-93dba49e883d"
   },
   "outputs": [
    {
     "data": {
      "text/plain": [
       "(110, 8, 5, 15, 4)"
      ]
     },
     "execution_count": 63,
     "metadata": {},
     "output_type": "execute_result"
    }
   ],
   "source": [
    "magnitude_spectrum_features['s1'].shape"
   ]
  },
  {
   "cell_type": "code",
   "execution_count": 22,
   "metadata": {
    "id": "gg1s5CQY45Tu"
   },
   "outputs": [],
   "source": [
    "def make_confusion_matrix(y_true, y_pred, classes=None, figsize=(10, 10), text_size=15, norm=False, savefig=False): \n",
    "  \"\"\"Makes a labelled confusion matrix comparing predictions and ground truth labels.\n",
    "  If classes is passed, confusion matrix will be labelled, if not, integer class values\n",
    "  will be used.\n",
    "  Args:\n",
    "    y_true: Array of truth labels (must be same shape as y_pred).\n",
    "    y_pred: Array of predicted labels (must be same shape as y_true).\n",
    "    classes: Array of class labels (e.g. string form). If `None`, integer labels are used.\n",
    "    figsize: Size of output figure (default=(10, 10)).\n",
    "    text_size: Size of output figure text (default=15).\n",
    "    norm: normalize values or not (default=False).\n",
    "    savefig: save confusion matrix to file (default=False).\n",
    "  \n",
    "  Returns:\n",
    "    A labelled confusion matrix plot comparing y_true and y_pred.\n",
    "  Example usage:\n",
    "    make_confusion_matrix(y_true=test_labels, # ground truth test labels\n",
    "                          y_pred=y_preds, # predicted labels\n",
    "                          classes=class_names, # array of class label names\n",
    "                          figsize=(15, 15),\n",
    "                          text_size=10)\n",
    "  \"\"\"  \n",
    "  # Create the confustion matrix\n",
    "  cm = confusion_matrix(y_true, y_pred)\n",
    "  cm_norm = cm.astype(\"float\") / cm.sum(axis=1)[:, np.newaxis] # normalize it\n",
    "  n_classes = cm.shape[0] # find the number of classes we're dealing with\n",
    "\n",
    "  # Plot the figure and make it pretty\n",
    "  fig, ax = plt.subplots(figsize=figsize)\n",
    "  cax = ax.matshow(cm, cmap=plt.cm.Blues) # colors will represent how 'correct' a class is, darker == better\n",
    "  fig.colorbar(cax)\n",
    "\n",
    "  # Are there a list of classes?\n",
    "  if classes:\n",
    "    labels = classes\n",
    "  else:\n",
    "    labels = np.arange(cm.shape[0])\n",
    "  \n",
    "  # Label the axes\n",
    "  ax.set(title=\"Confusion Matrix\",\n",
    "         xlabel=\"Predicted label\",\n",
    "         ylabel=\"True label\",\n",
    "         xticks=np.arange(n_classes), # create enough axis slots for each class\n",
    "         yticks=np.arange(n_classes), \n",
    "         xticklabels=labels, # axes will labeled with class names (if they exist) or ints\n",
    "         yticklabels=labels)\n",
    "  \n",
    "  # Make x-axis labels appear on bottom\n",
    "  ax.xaxis.set_label_position(\"bottom\")\n",
    "  ax.xaxis.tick_bottom()\n",
    "\n",
    "  # Set the threshold for different colors\n",
    "  threshold = (cm.max() + cm.min()) / 2.\n",
    "\n",
    "  # Plot the text on each cell\n",
    "  for i, j in itertools.product(range(cm.shape[0]), range(cm.shape[1])):\n",
    "    if norm:\n",
    "      plt.text(j, i, f\"{cm[i, j]} ({cm_norm[i, j]*100:.1f}%)\",\n",
    "              horizontalalignment=\"center\",\n",
    "              color=\"white\" if cm[i, j] > threshold else \"black\",\n",
    "              size=text_size)\n",
    "    else:\n",
    "      plt.text(j, i, f\"{cm[i, j]}\",\n",
    "              horizontalalignment=\"center\",\n",
    "              color=\"white\" if cm[i, j] > threshold else \"black\",\n",
    "              size=text_size)\n",
    "\n",
    "  # Save the figure to the current working directory\n",
    "  if savefig:\n",
    "    fig.savefig(\"confusion_matrix.png\")"
   ]
  },
  {
   "cell_type": "markdown",
   "metadata": {
    "id": "sVSNxgnp8VCN"
   },
   "source": [
    "Now, finally train and evauate the model!"
   ]
  },
  {
   "cell_type": "markdown",
   "metadata": {
    "id": "P0_Md01579UG"
   },
   "source": [
    "# Displaying Metrics"
   ]
  },
  {
   "cell_type": "code",
   "execution_count": null,
   "metadata": {
    "id": "m1jHLCxmnlHw"
   },
   "outputs": [],
   "source": [
    "def calculate_results(y_true, y_pred):\n",
    "  \"\"\"\n",
    "  Calculates model accuracy, precision, recall and f1 score of a binary classification model.\n",
    "  Args:\n",
    "      y_true: true labels in the form of a 1D array\n",
    "      y_pred: predicted labels in the form of a 1D array\n",
    "  Returns a dictionary of accuracy, precision, recall, f1-score.\n",
    "  \"\"\"\n",
    "  # Calculate model accuracy\n",
    "  model_accuracy = accuracy_score(y_true, y_pred) * 100\n",
    "  # Calculate model precision, recall and f1 score using \"weighted average\n",
    "  model_precision, model_recall, model_f1, _ = precision_recall_fscore_support(y_true, y_pred, average=\"weighted\")\n",
    "  model_results = {\"accuracy\": model_accuracy,\n",
    "                  \"precision\": model_precision,\n",
    "                  \"recall\": model_recall,\n",
    "                  \"f1\": model_f1}\n",
    "  return model_results"
   ]
  },
  {
   "cell_type": "markdown",
   "metadata": {
    "id": "mxBwNlkip_Li"
   },
   "source": [
    "# Pretrained Model and Fine Tuning\n",
    "\n",
    "*make sure h5 model is named \"model.h5\" and in working directory"
   ]
  },
  {
   "cell_type": "code",
   "execution_count": 4,
   "metadata": {
    "id": "SbjjVSBR3hgy"
   },
   "outputs": [
    {
     "name": "stdout",
     "output_type": "stream",
     "text": [
      "\n"
     ]
    }
   ],
   "source": [
    "model = load_model('./CNN_files/model.h5')"
   ]
  },
  {
   "cell_type": "code",
   "execution_count": 7,
   "metadata": {
    "colab": {
     "base_uri": "https://localhost:8080/"
    },
    "id": "uLQ_pTixt1R8",
    "outputId": "12b8bd97-543a-4382-d46c-5040461880ae"
   },
   "outputs": [
    {
     "name": "stdout",
     "output_type": "stream",
     "text": [
      "\n"
     ]
    }
   ],
   "source": [
    "model.summary()"
   ]
  },
  {
   "cell_type": "code",
   "execution_count": null,
   "metadata": {
    "colab": {
     "base_uri": "https://localhost:8080/"
    },
    "id": "kqsWyVXPvKsA",
    "outputId": "873a6e44-81ee-4226-b735-a8c309b74899"
   },
   "outputs": [
    {
     "name": "stdout",
     "output_type": "stream",
     "text": [
      "Model: \"sequential_2\"\n",
      "_________________________________________________________________\n",
      "Layer (type)                 Output Shape              Param #   \n",
      "=================================================================\n",
      "conv2d_200 (Conv2D)          (None, 1, 110, 16)        144       \n",
      "_________________________________________________________________\n",
      "batch_normalization_200 (Bat (None, 1, 110, 16)        64        \n",
      "_________________________________________________________________\n",
      "activation_200 (Activation)  (None, 1, 110, 16)        0         \n",
      "_________________________________________________________________\n",
      "dropout_200 (Dropout)        (None, 1, 110, 16)        0         \n",
      "_________________________________________________________________\n",
      "conv2d_201 (Conv2D)          (None, 1, 101, 16)        2576      \n",
      "_________________________________________________________________\n",
      "batch_normalization_201 (Bat (None, 1, 101, 16)        64        \n",
      "_________________________________________________________________\n",
      "activation_201 (Activation)  (None, 1, 101, 16)        0         \n",
      "_________________________________________________________________\n",
      "dropout_201 (Dropout)        (None, 1, 101, 16)        0         \n",
      "_________________________________________________________________\n",
      "flatten_100 (Flatten)        (None, 1616)              0         \n",
      "_________________________________________________________________\n",
      "dense_2 (Dense)              (None, 5)                 8085      \n",
      "=================================================================\n",
      "Total params: 10,933\n",
      "Trainable params: 10,869\n",
      "Non-trainable params: 64\n",
      "_________________________________________________________________\n"
     ]
    }
   ],
   "source": [
    "# Build new model\n",
    "new_model = Sequential()\n",
    "\n",
    "for layer in model.layers[:-1]: # go through until last layer\n",
    "    new_model.add(layer)\n",
    "#new_model.add(Dense(13, activation='softmax'))\n",
    "\n",
    "\n",
    "\n",
    "\n",
    "\n",
    "new_model.add(Dense(5, activation='softmax'))\n",
    "new_model.summary()"
   ]
  },
  {
   "cell_type": "code",
   "execution_count": null,
   "metadata": {
    "id": "UdiY_PVXQp4W"
   },
   "outputs": [],
   "source": [
    "for layer in new_model.layers[:-1]:\n",
    "  layer.trainable = False \n"
   ]
  },
  {
   "cell_type": "markdown",
   "metadata": {
    "id": "g57UFTyBvskn"
   },
   "source": [
    "## Compile The New Model"
   ]
  },
  {
   "cell_type": "code",
   "execution_count": null,
   "metadata": {
    "id": "gLvSz9lnvwU3"
   },
   "outputs": [],
   "source": [
    "new_model.compile(optimizer = 'adam', loss = 'categorical_crossentropy', metrics = ['accuracy'])"
   ]
  },
  {
   "cell_type": "code",
   "execution_count": null,
   "metadata": {
    "colab": {
     "base_uri": "https://localhost:8080/"
    },
    "id": "EiD23Gf6t6pd",
    "outputId": "c7b10055-efa3-465a-ef5a-c12879e8cf98"
   },
   "outputs": [
    {
     "data": {
      "text/plain": [
       "(8, 110, 1)"
      ]
     },
     "execution_count": 76,
     "metadata": {},
     "output_type": "execute_result"
    }
   ],
   "source": [
    "mcnn_training_data['s1']['train_data'][8].shape"
   ]
  },
  {
   "cell_type": "markdown",
   "metadata": {
    "id": "-5__DIJWrkU6"
   },
   "source": [
    "# Split Data for Train and Val"
   ]
  },
  {
   "cell_type": "code",
   "execution_count": null,
   "metadata": {
    "id": "r3O4tls-uVuw"
   },
   "outputs": [],
   "source": [
    "\n",
    "\n",
    "def split_train_test(data, labels):\n",
    "   \n",
    "   \"\"\"Splits data into training and validation set\"\"\"\n",
    "   n_data, n_labels = shuffle(data,labels, random_state = 0)\n",
    "\n",
    "   split_index = int(np.round(len(n_data)*0.8) )\n",
    "   print(split_index)\n",
    "\n",
    "   train_data = n_data[:split_index]\n",
    "   test_data = n_data[split_index:]\n",
    "\n",
    "   train_labels = n_labels[:split_index]\n",
    "   test_labels = n_labels[split_index:]\n",
    "\n",
    "   return (train_data, test_data, train_labels, test_labels) \n",
    "\n",
    "   \n"
   ]
  },
  {
   "cell_type": "code",
   "execution_count": null,
   "metadata": {
    "colab": {
     "base_uri": "https://localhost:8080/"
    },
    "id": "yvAtfTmOwwxY",
    "outputId": "4fa7b61c-c57e-46bc-9dd1-8575c40db26d"
   },
   "outputs": [
    {
     "name": "stdout",
     "output_type": "stream",
     "text": [
      "240\n"
     ]
    }
   ],
   "source": [
    "train_data, test_data, train_labels, test_labels = split_train_test(mcnn_training_data['s1']['train_data'], mcnn_training_data['s1']['label'])"
   ]
  },
  {
   "cell_type": "code",
   "execution_count": null,
   "metadata": {
    "colab": {
     "base_uri": "https://localhost:8080/"
    },
    "id": "efJBlczIz2IN",
    "outputId": "14d1b716-1f75-44d1-9687-0a3c16da323c"
   },
   "outputs": [
    {
     "data": {
      "text/plain": [
       "(240, 5)"
      ]
     },
     "execution_count": 79,
     "metadata": {},
     "output_type": "execute_result"
    }
   ],
   "source": [
    "train_labels.shape"
   ]
  },
  {
   "cell_type": "code",
   "execution_count": null,
   "metadata": {
    "colab": {
     "base_uri": "https://localhost:8080/"
    },
    "id": "zLrchJg79Q2u",
    "outputId": "8d3a3ffa-d068-4178-8628-bdb55526627b"
   },
   "outputs": [
    {
     "name": "stdout",
     "output_type": "stream",
     "text": [
      "Epoch 1/100\n",
      "8/8 [==============================] - 0s 28ms/step - loss: 2.0403 - accuracy: 0.1708 - val_loss: 1.6950 - val_accuracy: 0.1833\n",
      "Epoch 2/100\n",
      "8/8 [==============================] - 0s 4ms/step - loss: 1.6648 - accuracy: 0.2667 - val_loss: 1.5672 - val_accuracy: 0.2667\n",
      "Epoch 3/100\n",
      "8/8 [==============================] - 0s 4ms/step - loss: 1.4216 - accuracy: 0.4083 - val_loss: 1.4437 - val_accuracy: 0.4000\n",
      "Epoch 4/100\n",
      "8/8 [==============================] - 0s 4ms/step - loss: 1.2836 - accuracy: 0.4625 - val_loss: 1.3598 - val_accuracy: 0.4667\n",
      "Epoch 5/100\n",
      "8/8 [==============================] - 0s 4ms/step - loss: 1.1088 - accuracy: 0.5708 - val_loss: 1.3020 - val_accuracy: 0.4667\n",
      "Epoch 6/100\n",
      "8/8 [==============================] - 0s 4ms/step - loss: 1.0302 - accuracy: 0.5667 - val_loss: 1.2547 - val_accuracy: 0.5333\n",
      "Epoch 7/100\n",
      "8/8 [==============================] - 0s 4ms/step - loss: 0.8683 - accuracy: 0.7000 - val_loss: 1.2141 - val_accuracy: 0.5500\n",
      "Epoch 8/100\n",
      "8/8 [==============================] - 0s 4ms/step - loss: 0.8096 - accuracy: 0.7500 - val_loss: 1.1884 - val_accuracy: 0.6167\n",
      "Epoch 9/100\n",
      "8/8 [==============================] - 0s 4ms/step - loss: 0.6926 - accuracy: 0.8167 - val_loss: 1.1634 - val_accuracy: 0.6167\n",
      "Epoch 10/100\n",
      "8/8 [==============================] - 0s 4ms/step - loss: 0.6966 - accuracy: 0.8000 - val_loss: 1.1310 - val_accuracy: 0.6500\n",
      "Epoch 11/100\n",
      "8/8 [==============================] - 0s 5ms/step - loss: 0.6705 - accuracy: 0.7708 - val_loss: 1.1315 - val_accuracy: 0.6167\n",
      "Epoch 12/100\n",
      "8/8 [==============================] - 0s 4ms/step - loss: 0.6134 - accuracy: 0.8042 - val_loss: 1.1096 - val_accuracy: 0.6333\n",
      "Epoch 13/100\n",
      "8/8 [==============================] - 0s 4ms/step - loss: 0.5776 - accuracy: 0.8292 - val_loss: 1.0930 - val_accuracy: 0.6333\n",
      "Epoch 14/100\n",
      "8/8 [==============================] - 0s 4ms/step - loss: 0.5065 - accuracy: 0.8708 - val_loss: 1.0689 - val_accuracy: 0.6333\n",
      "Epoch 15/100\n",
      "8/8 [==============================] - 0s 4ms/step - loss: 0.5381 - accuracy: 0.8500 - val_loss: 1.0703 - val_accuracy: 0.6500\n",
      "Epoch 16/100\n",
      "8/8 [==============================] - 0s 4ms/step - loss: 0.5418 - accuracy: 0.8208 - val_loss: 1.0638 - val_accuracy: 0.6000\n",
      "Epoch 17/100\n",
      "8/8 [==============================] - 0s 4ms/step - loss: 0.4275 - accuracy: 0.8750 - val_loss: 1.0525 - val_accuracy: 0.6500\n",
      "Epoch 18/100\n",
      "8/8 [==============================] - 0s 4ms/step - loss: 0.4105 - accuracy: 0.9042 - val_loss: 1.0747 - val_accuracy: 0.6000\n",
      "Epoch 19/100\n",
      "8/8 [==============================] - 0s 4ms/step - loss: 0.4554 - accuracy: 0.8917 - val_loss: 1.0578 - val_accuracy: 0.6167\n",
      "Epoch 20/100\n",
      "8/8 [==============================] - 0s 4ms/step - loss: 0.4005 - accuracy: 0.9167 - val_loss: 1.0465 - val_accuracy: 0.6333\n",
      "Epoch 21/100\n",
      "8/8 [==============================] - 0s 5ms/step - loss: 0.4425 - accuracy: 0.8833 - val_loss: 1.0453 - val_accuracy: 0.6333\n",
      "Epoch 22/100\n",
      "8/8 [==============================] - 0s 4ms/step - loss: 0.3608 - accuracy: 0.9000 - val_loss: 1.0438 - val_accuracy: 0.6500\n",
      "Epoch 23/100\n",
      "8/8 [==============================] - 0s 4ms/step - loss: 0.3621 - accuracy: 0.9208 - val_loss: 1.0474 - val_accuracy: 0.6500\n",
      "Epoch 24/100\n",
      "8/8 [==============================] - 0s 4ms/step - loss: 0.3506 - accuracy: 0.9208 - val_loss: 1.0525 - val_accuracy: 0.6000\n",
      "Epoch 25/100\n",
      "8/8 [==============================] - 0s 5ms/step - loss: 0.3623 - accuracy: 0.9208 - val_loss: 1.0313 - val_accuracy: 0.6333\n",
      "Epoch 26/100\n",
      "8/8 [==============================] - 0s 5ms/step - loss: 0.3177 - accuracy: 0.9000 - val_loss: 1.0411 - val_accuracy: 0.6500\n",
      "Epoch 27/100\n",
      "8/8 [==============================] - 0s 4ms/step - loss: 0.3328 - accuracy: 0.9250 - val_loss: 1.0400 - val_accuracy: 0.6167\n",
      "Epoch 28/100\n",
      "8/8 [==============================] - 0s 4ms/step - loss: 0.3172 - accuracy: 0.9083 - val_loss: 1.0200 - val_accuracy: 0.6167\n",
      "Epoch 29/100\n",
      "8/8 [==============================] - 0s 5ms/step - loss: 0.3498 - accuracy: 0.9292 - val_loss: 1.0028 - val_accuracy: 0.6833\n",
      "Epoch 30/100\n",
      "8/8 [==============================] - 0s 4ms/step - loss: 0.3015 - accuracy: 0.9208 - val_loss: 1.0307 - val_accuracy: 0.6167\n",
      "Epoch 31/100\n",
      "8/8 [==============================] - 0s 5ms/step - loss: 0.3102 - accuracy: 0.9042 - val_loss: 1.0371 - val_accuracy: 0.6167\n",
      "Epoch 32/100\n",
      "8/8 [==============================] - 0s 4ms/step - loss: 0.2704 - accuracy: 0.9500 - val_loss: 1.0090 - val_accuracy: 0.6500\n",
      "Epoch 33/100\n",
      "8/8 [==============================] - 0s 4ms/step - loss: 0.2747 - accuracy: 0.9458 - val_loss: 1.0083 - val_accuracy: 0.6167\n",
      "Epoch 34/100\n",
      "8/8 [==============================] - 0s 4ms/step - loss: 0.2763 - accuracy: 0.9500 - val_loss: 1.0203 - val_accuracy: 0.6333\n",
      "Epoch 35/100\n",
      "8/8 [==============================] - 0s 4ms/step - loss: 0.2680 - accuracy: 0.9500 - val_loss: 1.0008 - val_accuracy: 0.6167\n",
      "Epoch 36/100\n",
      "8/8 [==============================] - 0s 4ms/step - loss: 0.2457 - accuracy: 0.9458 - val_loss: 1.0001 - val_accuracy: 0.6500\n",
      "Epoch 37/100\n",
      "8/8 [==============================] - 0s 4ms/step - loss: 0.2170 - accuracy: 0.9667 - val_loss: 1.0423 - val_accuracy: 0.6167\n",
      "Epoch 38/100\n",
      "8/8 [==============================] - 0s 4ms/step - loss: 0.2405 - accuracy: 0.9583 - val_loss: 1.0168 - val_accuracy: 0.6333\n",
      "Epoch 39/100\n",
      "8/8 [==============================] - 0s 4ms/step - loss: 0.2286 - accuracy: 0.9708 - val_loss: 1.0080 - val_accuracy: 0.6333\n",
      "Epoch 40/100\n",
      "8/8 [==============================] - 0s 4ms/step - loss: 0.2113 - accuracy: 0.9625 - val_loss: 1.0405 - val_accuracy: 0.6167\n",
      "Epoch 41/100\n",
      "8/8 [==============================] - 0s 4ms/step - loss: 0.2134 - accuracy: 0.9583 - val_loss: 1.0351 - val_accuracy: 0.6000\n",
      "Epoch 42/100\n",
      "8/8 [==============================] - 0s 4ms/step - loss: 0.2037 - accuracy: 0.9792 - val_loss: 1.0363 - val_accuracy: 0.6333\n",
      "Epoch 43/100\n",
      "8/8 [==============================] - 0s 4ms/step - loss: 0.1865 - accuracy: 0.9625 - val_loss: 1.0393 - val_accuracy: 0.6000\n",
      "Epoch 44/100\n",
      "8/8 [==============================] - 0s 4ms/step - loss: 0.1756 - accuracy: 0.9667 - val_loss: 1.0414 - val_accuracy: 0.6333\n",
      "Epoch 45/100\n",
      "8/8 [==============================] - 0s 5ms/step - loss: 0.1813 - accuracy: 0.9583 - val_loss: 1.0286 - val_accuracy: 0.6167\n",
      "Epoch 46/100\n",
      "8/8 [==============================] - 0s 4ms/step - loss: 0.2149 - accuracy: 0.9542 - val_loss: 1.0135 - val_accuracy: 0.6500\n",
      "Epoch 47/100\n",
      "8/8 [==============================] - 0s 4ms/step - loss: 0.1797 - accuracy: 0.9583 - val_loss: 1.0396 - val_accuracy: 0.6500\n",
      "Epoch 48/100\n",
      "8/8 [==============================] - 0s 4ms/step - loss: 0.2111 - accuracy: 0.9542 - val_loss: 1.0409 - val_accuracy: 0.6167\n",
      "Epoch 49/100\n",
      "8/8 [==============================] - 0s 4ms/step - loss: 0.1911 - accuracy: 0.9667 - val_loss: 1.0450 - val_accuracy: 0.6333\n",
      "Epoch 50/100\n",
      "8/8 [==============================] - 0s 4ms/step - loss: 0.1811 - accuracy: 0.9708 - val_loss: 1.0540 - val_accuracy: 0.6333\n",
      "Epoch 51/100\n",
      "8/8 [==============================] - 0s 4ms/step - loss: 0.1693 - accuracy: 0.9708 - val_loss: 1.0687 - val_accuracy: 0.6333\n",
      "Epoch 52/100\n",
      "8/8 [==============================] - 0s 4ms/step - loss: 0.2007 - accuracy: 0.9500 - val_loss: 1.0739 - val_accuracy: 0.6000\n",
      "Epoch 53/100\n",
      "8/8 [==============================] - 0s 4ms/step - loss: 0.1835 - accuracy: 0.9667 - val_loss: 1.0345 - val_accuracy: 0.6333\n",
      "Epoch 54/100\n",
      "8/8 [==============================] - 0s 5ms/step - loss: 0.1631 - accuracy: 0.9750 - val_loss: 1.0445 - val_accuracy: 0.6500\n",
      "Epoch 55/100\n",
      "8/8 [==============================] - 0s 4ms/step - loss: 0.1890 - accuracy: 0.9667 - val_loss: 1.0738 - val_accuracy: 0.6667\n",
      "Epoch 56/100\n",
      "8/8 [==============================] - 0s 4ms/step - loss: 0.1488 - accuracy: 0.9792 - val_loss: 1.0610 - val_accuracy: 0.6500\n",
      "Epoch 57/100\n",
      "8/8 [==============================] - 0s 4ms/step - loss: 0.1489 - accuracy: 0.9750 - val_loss: 1.0369 - val_accuracy: 0.6500\n",
      "Epoch 58/100\n",
      "8/8 [==============================] - 0s 4ms/step - loss: 0.1741 - accuracy: 0.9542 - val_loss: 1.0574 - val_accuracy: 0.6167\n",
      "Epoch 59/100\n",
      "8/8 [==============================] - 0s 4ms/step - loss: 0.1456 - accuracy: 0.9750 - val_loss: 1.0706 - val_accuracy: 0.6333\n",
      "Epoch 60/100\n",
      "8/8 [==============================] - 0s 4ms/step - loss: 0.1517 - accuracy: 0.9792 - val_loss: 1.0382 - val_accuracy: 0.6500\n",
      "Epoch 61/100\n",
      "8/8 [==============================] - 0s 4ms/step - loss: 0.1637 - accuracy: 0.9750 - val_loss: 1.0380 - val_accuracy: 0.6500\n",
      "Epoch 62/100\n",
      "8/8 [==============================] - 0s 4ms/step - loss: 0.1749 - accuracy: 0.9583 - val_loss: 1.0742 - val_accuracy: 0.6333\n",
      "Epoch 63/100\n",
      "8/8 [==============================] - 0s 4ms/step - loss: 0.1324 - accuracy: 0.9833 - val_loss: 1.0430 - val_accuracy: 0.6500\n",
      "Epoch 64/100\n",
      "8/8 [==============================] - 0s 4ms/step - loss: 0.1386 - accuracy: 0.9833 - val_loss: 1.0395 - val_accuracy: 0.6500\n",
      "Epoch 65/100\n",
      "8/8 [==============================] - 0s 4ms/step - loss: 0.1506 - accuracy: 0.9708 - val_loss: 1.0517 - val_accuracy: 0.6333\n",
      "Epoch 66/100\n",
      "8/8 [==============================] - 0s 4ms/step - loss: 0.1475 - accuracy: 0.9708 - val_loss: 1.0442 - val_accuracy: 0.6333\n",
      "Epoch 67/100\n",
      "8/8 [==============================] - 0s 4ms/step - loss: 0.1483 - accuracy: 0.9667 - val_loss: 1.0638 - val_accuracy: 0.6500\n",
      "Epoch 68/100\n",
      "8/8 [==============================] - 0s 5ms/step - loss: 0.1462 - accuracy: 0.9625 - val_loss: 1.0965 - val_accuracy: 0.6333\n",
      "Epoch 69/100\n",
      "8/8 [==============================] - 0s 4ms/step - loss: 0.1330 - accuracy: 0.9792 - val_loss: 1.0734 - val_accuracy: 0.6667\n",
      "Epoch 70/100\n",
      "8/8 [==============================] - 0s 4ms/step - loss: 0.1421 - accuracy: 0.9708 - val_loss: 1.0543 - val_accuracy: 0.6500\n",
      "Epoch 71/100\n",
      "8/8 [==============================] - 0s 4ms/step - loss: 0.1414 - accuracy: 0.9875 - val_loss: 1.0729 - val_accuracy: 0.6333\n",
      "Epoch 72/100\n",
      "8/8 [==============================] - 0s 4ms/step - loss: 0.1373 - accuracy: 0.9750 - val_loss: 1.0963 - val_accuracy: 0.6500\n",
      "Epoch 73/100\n",
      "8/8 [==============================] - 0s 5ms/step - loss: 0.1294 - accuracy: 0.9667 - val_loss: 1.0899 - val_accuracy: 0.6667\n",
      "Epoch 74/100\n",
      "8/8 [==============================] - 0s 4ms/step - loss: 0.1057 - accuracy: 0.9958 - val_loss: 1.0935 - val_accuracy: 0.6667\n",
      "Epoch 75/100\n",
      "8/8 [==============================] - 0s 4ms/step - loss: 0.1277 - accuracy: 0.9875 - val_loss: 1.0735 - val_accuracy: 0.6667\n",
      "Epoch 76/100\n",
      "8/8 [==============================] - 0s 4ms/step - loss: 0.1217 - accuracy: 0.9750 - val_loss: 1.1198 - val_accuracy: 0.6333\n",
      "Epoch 77/100\n",
      "8/8 [==============================] - 0s 4ms/step - loss: 0.1386 - accuracy: 0.9500 - val_loss: 1.1354 - val_accuracy: 0.6333\n",
      "Epoch 78/100\n",
      "8/8 [==============================] - 0s 5ms/step - loss: 0.1223 - accuracy: 0.9833 - val_loss: 1.1027 - val_accuracy: 0.6333\n",
      "Epoch 79/100\n",
      "8/8 [==============================] - 0s 4ms/step - loss: 0.0913 - accuracy: 0.9917 - val_loss: 1.1106 - val_accuracy: 0.6333\n",
      "Epoch 80/100\n",
      "8/8 [==============================] - 0s 4ms/step - loss: 0.1067 - accuracy: 0.9833 - val_loss: 1.1485 - val_accuracy: 0.6167\n",
      "Epoch 81/100\n",
      "8/8 [==============================] - 0s 4ms/step - loss: 0.1070 - accuracy: 0.9833 - val_loss: 1.0998 - val_accuracy: 0.6500\n",
      "Epoch 82/100\n",
      "8/8 [==============================] - 0s 4ms/step - loss: 0.0942 - accuracy: 0.9833 - val_loss: 1.0706 - val_accuracy: 0.6500\n",
      "Epoch 83/100\n",
      "8/8 [==============================] - 0s 4ms/step - loss: 0.1089 - accuracy: 0.9792 - val_loss: 1.0991 - val_accuracy: 0.6500\n",
      "Epoch 84/100\n",
      "8/8 [==============================] - 0s 4ms/step - loss: 0.0999 - accuracy: 0.9958 - val_loss: 1.1230 - val_accuracy: 0.6500\n",
      "Epoch 85/100\n",
      "8/8 [==============================] - 0s 4ms/step - loss: 0.1077 - accuracy: 0.9917 - val_loss: 1.1455 - val_accuracy: 0.6167\n",
      "Epoch 86/100\n",
      "8/8 [==============================] - 0s 5ms/step - loss: 0.0885 - accuracy: 0.9917 - val_loss: 1.1056 - val_accuracy: 0.6500\n",
      "Epoch 87/100\n",
      "8/8 [==============================] - 0s 4ms/step - loss: 0.1117 - accuracy: 0.9875 - val_loss: 1.1099 - val_accuracy: 0.6500\n",
      "Epoch 88/100\n",
      "8/8 [==============================] - 0s 4ms/step - loss: 0.0883 - accuracy: 0.9875 - val_loss: 1.1267 - val_accuracy: 0.6500\n",
      "Epoch 89/100\n",
      "8/8 [==============================] - 0s 4ms/step - loss: 0.1081 - accuracy: 0.9750 - val_loss: 1.1286 - val_accuracy: 0.6500\n",
      "Epoch 90/100\n",
      "8/8 [==============================] - 0s 4ms/step - loss: 0.0843 - accuracy: 0.9958 - val_loss: 1.1165 - val_accuracy: 0.6500\n",
      "Epoch 91/100\n",
      "8/8 [==============================] - 0s 4ms/step - loss: 0.0872 - accuracy: 0.9958 - val_loss: 1.1283 - val_accuracy: 0.6667\n",
      "Epoch 92/100\n",
      "8/8 [==============================] - 0s 5ms/step - loss: 0.1025 - accuracy: 0.9833 - val_loss: 1.1417 - val_accuracy: 0.6333\n",
      "Epoch 93/100\n",
      "8/8 [==============================] - 0s 4ms/step - loss: 0.0953 - accuracy: 0.9833 - val_loss: 1.1216 - val_accuracy: 0.5833\n",
      "Epoch 94/100\n",
      "8/8 [==============================] - 0s 4ms/step - loss: 0.0946 - accuracy: 0.9917 - val_loss: 1.1075 - val_accuracy: 0.6167\n",
      "Epoch 95/100\n",
      "8/8 [==============================] - 0s 4ms/step - loss: 0.0903 - accuracy: 0.9958 - val_loss: 1.1164 - val_accuracy: 0.6500\n",
      "Epoch 96/100\n",
      "8/8 [==============================] - 0s 4ms/step - loss: 0.0909 - accuracy: 0.9875 - val_loss: 1.1293 - val_accuracy: 0.6333\n",
      "Epoch 97/100\n",
      "8/8 [==============================] - 0s 5ms/step - loss: 0.1026 - accuracy: 0.9833 - val_loss: 1.1529 - val_accuracy: 0.6667\n",
      "Epoch 98/100\n",
      "8/8 [==============================] - 0s 4ms/step - loss: 0.1143 - accuracy: 0.9708 - val_loss: 1.1277 - val_accuracy: 0.6833\n",
      "Epoch 99/100\n",
      "8/8 [==============================] - 0s 4ms/step - loss: 0.1001 - accuracy: 0.9875 - val_loss: 1.1197 - val_accuracy: 0.6500\n",
      "Epoch 100/100\n",
      "8/8 [==============================] - 0s 4ms/step - loss: 0.0957 - accuracy: 0.9875 - val_loss: 1.1395 - val_accuracy: 0.6500\n"
     ]
    }
   ],
   "source": [
    "history = new_model.fit(train_data, train_labels, epochs = 100, validation_data = (test_data, test_labels))"
   ]
  },
  {
   "cell_type": "code",
   "execution_count": null,
   "metadata": {
    "colab": {
     "base_uri": "https://localhost:8080/"
    },
    "id": "g64dH_4cNONA",
    "outputId": "f9372ad4-6227-44a8-91e0-7c63f8908887"
   },
   "outputs": [
    {
     "data": {
      "text/plain": [
       "(60, 8, 110, 1)"
      ]
     },
     "execution_count": 81,
     "metadata": {},
     "output_type": "execute_result"
    }
   ],
   "source": [
    "test_data.shape"
   ]
  },
  {
   "cell_type": "markdown",
   "metadata": {
    "id": "m22Jv8KRMra9"
   },
   "source": [
    "# Making a prediction"
   ]
  },
  {
   "cell_type": "code",
   "execution_count": null,
   "metadata": {
    "id": "dzMVMvsH90V5"
   },
   "outputs": [],
   "source": [
    "preds = new_model.predict(test_data)\n",
    "\n"
   ]
  },
  {
   "cell_type": "code",
   "execution_count": null,
   "metadata": {
    "colab": {
     "base_uri": "https://localhost:8080/"
    },
    "id": "J4T_fuPNNWN3",
    "outputId": "e3b38bfe-0d5e-4091-81b7-1d074b30f246"
   },
   "outputs": [
    {
     "data": {
      "text/plain": [
       "(60, 5)"
      ]
     },
     "execution_count": 83,
     "metadata": {},
     "output_type": "execute_result"
    }
   ],
   "source": [
    "preds.shape"
   ]
  },
  {
   "cell_type": "code",
   "execution_count": null,
   "metadata": {
    "id": "Ye5xuwV-NVbH"
   },
   "outputs": [],
   "source": [
    "new_preds = []\n",
    "for i in range(0, len(preds)):\n",
    "  new_preds.append(np.argmax(preds[i]))"
   ]
  },
  {
   "cell_type": "code",
   "execution_count": null,
   "metadata": {
    "colab": {
     "base_uri": "https://localhost:8080/"
    },
    "id": "bhzJtRLLNIJJ",
    "outputId": "8e7182c5-a1a2-402f-a6a4-b5837129e330"
   },
   "outputs": [
    {
     "data": {
      "text/plain": [
       "[0,\n",
       " 3,\n",
       " 2,\n",
       " 0,\n",
       " 1,\n",
       " 4,\n",
       " 3,\n",
       " 4,\n",
       " 1,\n",
       " 1,\n",
       " 2,\n",
       " 2,\n",
       " 4,\n",
       " 3,\n",
       " 0,\n",
       " 2,\n",
       " 3,\n",
       " 4,\n",
       " 0,\n",
       " 0,\n",
       " 3,\n",
       " 2,\n",
       " 2,\n",
       " 4,\n",
       " 3,\n",
       " 0,\n",
       " 3,\n",
       " 2,\n",
       " 3,\n",
       " 4,\n",
       " 4,\n",
       " 1,\n",
       " 4,\n",
       " 2,\n",
       " 2,\n",
       " 3,\n",
       " 4,\n",
       " 1,\n",
       " 0,\n",
       " 1,\n",
       " 4,\n",
       " 3,\n",
       " 2,\n",
       " 2,\n",
       " 4,\n",
       " 0,\n",
       " 3,\n",
       " 3,\n",
       " 1,\n",
       " 1,\n",
       " 4,\n",
       " 2,\n",
       " 1,\n",
       " 1,\n",
       " 3,\n",
       " 4,\n",
       " 3,\n",
       " 1,\n",
       " 2,\n",
       " 2]"
      ]
     },
     "execution_count": 85,
     "metadata": {},
     "output_type": "execute_result"
    }
   ],
   "source": [
    "new_preds"
   ]
  },
  {
   "cell_type": "code",
   "execution_count": null,
   "metadata": {
    "colab": {
     "base_uri": "https://localhost:8080/"
    },
    "id": "MpYnMYXFNbAK",
    "outputId": "8661b24a-3c16-4242-b4d7-dcba95785e7c"
   },
   "outputs": [
    {
     "data": {
      "text/plain": [
       "array([2, 3, 1, 0, 2, 4, 3, 0, 1, 2, 1, 0, 4, 3, 0, 2, 0, 4, 2, 0, 3, 2,\n",
       "       2, 4, 3, 0, 0, 2, 3, 4, 4, 2, 4, 2, 1, 3, 4, 1, 4, 1, 0, 2, 4, 2,\n",
       "       4, 0, 3, 1, 1, 1, 4, 4, 3, 0, 3, 4, 3, 1, 0, 2])"
      ]
     },
     "execution_count": 90,
     "metadata": {},
     "output_type": "execute_result"
    }
   ],
   "source": [
    "g = np.argmax(test_labels, axis = -1)\n",
    "g"
   ]
  },
  {
   "cell_type": "code",
   "execution_count": null,
   "metadata": {
    "colab": {
     "base_uri": "https://localhost:8080/"
    },
    "id": "nRc4lsbNsA99",
    "outputId": "c4490dd6-c90a-4633-ca06-c5edd948f033"
   },
   "outputs": [
    {
     "data": {
      "text/plain": [
       "{'accuracy': 65.0,\n",
       " 'f1': 0.6443738977072311,\n",
       " 'precision': 0.6526307026307026,\n",
       " 'recall': 0.65}"
      ]
     },
     "execution_count": 91,
     "metadata": {},
     "output_type": "execute_result"
    }
   ],
   "source": [
    "calculate_results(g, new_preds)"
   ]
  },
  {
   "cell_type": "code",
   "execution_count": null,
   "metadata": {
    "id": "5HGkTn8ffF5u"
   },
   "outputs": [],
   "source": [
    "new_model.save('4_freq_model.h5')"
   ]
  },
  {
   "cell_type": "code",
   "execution_count": null,
   "metadata": {
    "id": "PqjtP8AffnJV"
   },
   "outputs": [],
   "source": [
    "new_new_model = tf.keras.models.load_model('4_freq_model.h5')"
   ]
  },
  {
   "cell_type": "code",
   "execution_count": null,
   "metadata": {
    "colab": {
     "base_uri": "https://localhost:8080/"
    },
    "id": "e3E4_453f6mL",
    "outputId": "d25fbf6f-2c2a-4f85-95cc-651dc1ac331d"
   },
   "outputs": [
    {
     "name": "stdout",
     "output_type": "stream",
     "text": [
      "Model: \"sequential_4\"\n",
      "_________________________________________________________________\n",
      " Layer (type)                Output Shape              Param #   \n",
      "=================================================================\n",
      " conv2d_200 (Conv2D)         (None, 1, 110, 16)        144       \n",
      "                                                                 \n",
      " batch_normalization_200 (Ba  (None, 1, 110, 16)       64        \n",
      " tchNormalization)                                               \n",
      "                                                                 \n",
      " activation_200 (Activation)  (None, 1, 110, 16)       0         \n",
      "                                                                 \n",
      " dropout_200 (Dropout)       (None, 1, 110, 16)        0         \n",
      "                                                                 \n",
      " conv2d_201 (Conv2D)         (None, 1, 101, 16)        2576      \n",
      "                                                                 \n",
      " batch_normalization_201 (Ba  (None, 1, 101, 16)       64        \n",
      " tchNormalization)                                               \n",
      "                                                                 \n",
      " activation_201 (Activation)  (None, 1, 101, 16)       0         \n",
      "                                                                 \n",
      " dropout_201 (Dropout)       (None, 1, 101, 16)        0         \n",
      "                                                                 \n",
      " flatten_100 (Flatten)       (None, 1616)              0         \n",
      "                                                                 \n",
      " dense_2 (Dense)             (None, 5)                 8085      \n",
      "                                                                 \n",
      "=================================================================\n",
      "Total params: 10,933\n",
      "Trainable params: 10,869\n",
      "Non-trainable params: 64\n",
      "_________________________________________________________________\n"
     ]
    }
   ],
   "source": [
    "new_new_model.summary()"
   ]
  },
  {
   "cell_type": "code",
   "execution_count": null,
   "metadata": {
    "colab": {
     "base_uri": "https://localhost:8080/"
    },
    "id": "Gdn1TGkCCa94",
    "outputId": "83d89a95-c4ef-4ee1-8234-00a750039c8b"
   },
   "outputs": [
    {
     "data": {
      "text/plain": [
       "100"
      ]
     },
     "execution_count": 32,
     "metadata": {},
     "output_type": "execute_result"
    }
   ],
   "source": [
    "len(mcnn_training_data['s1']['label'])"
   ]
  },
  {
   "cell_type": "code",
   "execution_count": null,
   "metadata": {
    "colab": {
     "base_uri": "https://localhost:8080/"
    },
    "id": "bJ0kQ9ysCyLL",
    "outputId": "fb7afaa3-d2c6-42fc-fb83-fb3af0c8ca7a"
   },
   "outputs": [
    {
     "data": {
      "text/plain": [
       "[0, 0, 0, 1, 1, 2, 2, 2, 3, 3, 4, 4, 4]"
      ]
     },
     "execution_count": 33,
     "metadata": {},
     "output_type": "execute_result"
    }
   ],
   "source": [
    "labels = []\n",
    "for i in range(0, len(mcnn_training_data['s1']['label']), 8):\n",
    "  labels.append(np.argmax(mcnn_training_data['s1']['label'][i]))\n",
    "\n",
    "labels"
   ]
  },
  {
   "cell_type": "code",
   "execution_count": null,
   "metadata": {
    "id": "CtXtDU_bBv00"
   },
   "outputs": [],
   "source": [
    "results = calculate_results(labels, newer_preds)"
   ]
  },
  {
   "cell_type": "code",
   "execution_count": null,
   "metadata": {
    "colab": {
     "base_uri": "https://localhost:8080/"
    },
    "id": "lL2zgIGuEFUB",
    "outputId": "8fb67689-2e2d-480d-a5a2-32c8a6aebf68"
   },
   "outputs": [
    {
     "data": {
      "text/plain": [
       "{'accuracy': 100.0, 'f1': 1.0, 'precision': 1.0, 'recall': 1.0}"
      ]
     },
     "execution_count": 68,
     "metadata": {},
     "output_type": "execute_result"
    }
   ],
   "source": [
    "results"
   ]
  },
  {
   "cell_type": "code",
   "execution_count": null,
   "metadata": {
    "colab": {
     "base_uri": "https://localhost:8080/"
    },
    "id": "2vNXFgJfBE4h",
    "outputId": "6cc5d839-c69c-4ae8-a1cd-968924afe3d4"
   },
   "outputs": [
    {
     "data": {
      "text/plain": [
       "array([[2.5976470e-01, 3.4223524e-01, 6.8242834e-06, ..., 4.9288565e-04,\n",
       "        5.0280016e-04, 4.3352794e-02],\n",
       "       [3.9175245e-01, 4.5865629e-02, 8.3481958e-03, ..., 5.1062245e-02,\n",
       "        4.8718777e-02, 1.3213304e-02],\n",
       "       [2.5130564e-01, 3.8929675e-02, 3.7654120e-02, ..., 4.5531169e-02,\n",
       "        3.8480416e-02, 4.2067297e-02],\n",
       "       ...,\n",
       "       [4.9853826e-01, 7.8318447e-02, 6.9522765e-04, ..., 3.9624986e-03,\n",
       "        5.9457425e-02, 7.8338981e-03],\n",
       "       [2.9208639e-01, 5.3282484e-02, 8.8120513e-03, ..., 1.1730568e-02,\n",
       "        4.1607544e-02, 4.1292764e-02],\n",
       "       [2.8679876e-02, 7.9060203e-01, 2.1538297e-07, ..., 2.7583601e-05,\n",
       "        5.4401833e-05, 3.7048198e-02]], dtype=float32)"
      ]
     },
     "execution_count": 44,
     "metadata": {},
     "output_type": "execute_result"
    }
   ],
   "source": [
    "new_preds "
   ]
  }
 ],
 "metadata": {
  "accelerator": "GPU",
  "colab": {
   "collapsed_sections": [],
   "name": "Watolink_CNN_model.ipynb",
   "provenance": []
  },
  "kernelspec": {
   "display_name": "Python 3 (ipykernel)",
   "language": "python",
   "name": "python3"
  },
  "language_info": {
   "codemirror_mode": {
    "name": "ipython",
    "version": 3
   },
   "file_extension": ".py",
   "mimetype": "text/x-python",
   "name": "python",
   "nbconvert_exporter": "python",
   "pygments_lexer": "ipython3",
   "version": "3.9.13"
  },
  "vscode": {
   "interpreter": {
    "hash": "d570279e5f8624536e1fbb7d14bba44017b8eca647e98396941e5d72b8ed4bc4"
   }
  }
 },
 "nbformat": 4,
 "nbformat_minor": 1
}
